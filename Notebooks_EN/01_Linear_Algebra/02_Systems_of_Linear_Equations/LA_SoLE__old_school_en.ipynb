{
  "cells": [
    {
      "cell_type": "markdown",
      "metadata": {
        "id": "hnba09td2kKb"
      },
      "source": [
        "# School Method for Solving Systems of Linear Equations"
      ]
    },
    {
      "cell_type": "code",
      "execution_count": null,
      "metadata": {
        "id": "gssE_6__2kKc"
      },
      "outputs": [],
      "source": [
        "import sympy as sp\n",
        "from sympy import symbols, Eq, expand, solve\n",
        "\n",
        "class EnhancedEq(Eq):\n",
        "    def __add__(self, other):\n",
        "        return EnhancedEq(self.lhs + other.lhs, self.rhs + other.rhs)\n",
        "\n",
        "    def __sub__(self, other):\n",
        "        return EnhancedEq(self.lhs - other.lhs, self.rhs - other.rhs)\n",
        "\n",
        "    def __mul__(self, scalar):\n",
        "        return EnhancedEq(scalar * self.lhs, scalar * self.rhs)\n",
        "\n",
        "    def __rmul__(self, scalar):\n",
        "        return self.__mul__(scalar)\n",
        "\n",
        "    def simplify(self):\n",
        "        return EnhancedEq(expand(self.lhs), expand(self.rhs))\n",
        "\n",
        "    def substitute(self, *args, **kwargs):\n",
        "        return EnhancedEq(self.lhs.subs(*args, **kwargs), self.rhs.subs(*args, **kwargs))\n",
        "\n",
        "    def solve_for(self, symbol):\n",
        "        return solve(self, symbol)\n",
        "\n",
        "# Example usage:\n",
        "x, y = symbols('x y')\n",
        "\n",
        "# Define equations\n",
        "eq1 = EnhancedEq(2*x + y, 5)\n",
        "eq2 = EnhancedEq(x - y, 1)"
      ]
    },
    {
      "cell_type": "code",
      "execution_count": null,
      "metadata": {
        "id": "8eo3qJdt2kKd",
        "outputId": "cb457b48-f359-486d-a65a-d44b8c2d251e"
      },
      "outputs": [
        {
          "name": "stdout",
          "output_type": "stream",
          "text": [
            "First equation:\n"
          ]
        },
        {
          "data": {
            "text/latex": [
              "$\\displaystyle 2 x + y = 5$"
            ],
            "text/plain": [
              "Eq(2*x + y, 5)"
            ]
          },
          "execution_count": 2,
          "metadata": {},
          "output_type": "execute_result"
        }
      ],
      "source": [
        "print(\"First equation:\")\n",
        "eq1"
      ]
    },
    {
      "cell_type": "code",
      "execution_count": null,
      "metadata": {
        "id": "VHi0rrHu2kKd",
        "outputId": "d82d51cb-ecaa-44ca-c2a2-f3b150df6d28"
      },
      "outputs": [
        {
          "name": "stdout",
          "output_type": "stream",
          "text": [
            "Second equation:\n"
          ]
        },
        {
          "data": {
            "text/latex": [
              "$\\displaystyle x - y = 1$"
            ],
            "text/plain": [
              "Eq(x - y, 1)"
            ]
          },
          "execution_count": 3,
          "metadata": {},
          "output_type": "execute_result"
        }
      ],
      "source": [
        "print(\"Second equation:\")\n",
        "eq2"
      ]
    },
    {
      "cell_type": "code",
      "execution_count": null,
      "metadata": {
        "id": "6rjFuy4W2kKd",
        "outputId": "a8c85ec8-df4b-4116-b5cb-a5795d2887ff"
      },
      "outputs": [
        {
          "data": {
            "text/latex": [
              "$\\displaystyle 3 x = 6$"
            ],
            "text/plain": [
              "Eq(3*x, 6)"
            ]
          },
          "execution_count": 4,
          "metadata": {},
          "output_type": "execute_result"
        }
      ],
      "source": [
        "# Add the equations\n",
        "eq3 = eq1 + eq2\n",
        "eq3"
      ]
    },
    {
      "cell_type": "code",
      "execution_count": null,
      "metadata": {
        "id": "fst2R2ye2kKe",
        "outputId": "9e015441-b882-4c8d-ade4-fe85fe93890a"
      },
      "outputs": [
        {
          "data": {
            "text/latex": [
              "$\\displaystyle 2$"
            ],
            "text/plain": [
              "2"
            ]
          },
          "execution_count": 5,
          "metadata": {},
          "output_type": "execute_result"
        }
      ],
      "source": [
        "# We have an equation with one unknown, so we can solve it\n",
        "sol_x = eq3.solve_for(x)[0]\n",
        "sol_x"
      ]
    },
    {
      "cell_type": "code",
      "execution_count": null,
      "metadata": {
        "id": "A7daED2l2kKe",
        "outputId": "1f952267-43ac-4f2f-b1ce-b1140d7d57ed"
      },
      "outputs": [
        {
          "data": {
            "text/latex": [
              "$\\displaystyle 2 - y = 1$"
            ],
            "text/plain": [
              "Eq(2 - y, 1)"
            ]
          },
          "execution_count": 6,
          "metadata": {},
          "output_type": "execute_result"
        }
      ],
      "source": [
        "# Substitute the solution into equation 2\n",
        "eq2 = eq2.substitute(x, sol_x)\n",
        "eq2"
      ]
    },
    {
      "cell_type": "code",
      "execution_count": null,
      "metadata": {
        "id": "8O-LcK5j2kKe",
        "outputId": "6f3fee82-c342-49e2-e398-d58ebea1ddc1"
      },
      "outputs": [
        {
          "data": {
            "text/latex": [
              "$\\displaystyle 1$"
            ],
            "text/plain": [
              "1"
            ]
          },
          "execution_count": 7,
          "metadata": {},
          "output_type": "execute_result"
        }
      ],
      "source": [
        "# We get an equation with one unknown, so we can solve it\n",
        "eq2.solve_for(y)[0]"
      ]
    },
    {
      "cell_type": "code",
      "execution_count": null,
      "metadata": {
        "id": "AEMTIgsJ2kKe",
        "outputId": "bc0ac547-1a39-4c7c-afa2-a2d279b859c8"
      },
      "outputs": [
        {
          "data": {
            "text/plain": [
              "{x: 2, y: 1}"
            ]
          },
          "execution_count": 8,
          "metadata": {},
          "output_type": "execute_result"
        }
      ],
      "source": [
        "# Thus x=2, y=1\n",
        "# Verify with sympy\n",
        "sp.solve([eq1, eq2])"
      ]
    },
    {
      "cell_type": "markdown",
      "metadata": {
        "id": "N7INGJ8l2kKe"
      },
      "source": [
        "---\n",
        "\n",
        "### Exercises for Students\n",
        "\n",
        "Solve the following systems of equations similarly to the example above:\n",
        "\n",
        "* $3x-2y=5, \\quad 2x+3y=7$,\n",
        "* $2x-3y=10, \\quad 4x+5y=20$,\n",
        "* $2x - y + z = 3, \\quad x + 2y - z = 1, \\quad 3x - y + 2z = 11$.\n",
        "* $2x-3y+4z+2t=2, \\quad 3x+2y-5z+3t=3, \\quad 4x-3y+2z-5t=4, \\quad 5x+4y-3z+2t=5$."
      ]
    },
    {
      "cell_type": "markdown",
      "source": [
        "### System 1:\n",
        "\\[\n",
        "\\left\\{\n",
        "\\begin{array}{l}\n",
        "3x - 2y = 5 \\\\\n",
        "2x + 3y = 7\n",
        "\\end{array}\n",
        "\\right.\n",
        "\\]\n",
        "\n",
        "**Solution:**\n",
        "\n",
        "We can solve this system using substitution or elimination.\n",
        "\n",
        "1. From the first equation:\n",
        "   \\[\n",
        "   3x = 2y + 5 \\implies x = \\frac{2y + 5}{3}\n",
        "   \\]\n",
        "   \n",
        "2. Substitute this expression for \\(x\\) into the second equation:\n",
        "   \\[\n",
        "   2 \\left( \\frac{2y + 5}{3} \\right) + 3y = 7\n",
        "   \\]\n",
        "   \n",
        "3. Simplify and solve for \\(y\\).\n",
        "\n",
        "---\n",
        "\n",
        "### System 2:\n",
        "\\[\n",
        "\\left\\{\n",
        "\\begin{array}{l}\n",
        "2x - 3y = 10 \\\\\n",
        "4x + 5y = 20\n",
        "\\end{array}\n",
        "\\right.\n",
        "\\]\n",
        "\n",
        "**Solution:**\n",
        "\n",
        "This system can also be solved using substitution or elimination.\n",
        "\n",
        "1. Multiply the first equation by 2:\n",
        "   \\[\n",
        "   4x - 6y = 20\n",
        "   \\]\n",
        "   \n",
        "2. Subtract this from the second equation:\n",
        "   \\[\n",
        "   (4x + 5y) - (4x - 6y) = 20 - 20\n",
        "   \\]\n",
        "   \n",
        "3. Simplify and solve for \\(y\\).\n",
        "\n",
        "---\n",
        "\n",
        "### System 3:\n",
        "\\[\n",
        "\\left\\{\n",
        "\\begin{array}{l}\n",
        "2x - y + z = 3 \\\\\n",
        "x + 2y - z = 1 \\\\\n",
        "3x - y + 2z = 11\n",
        "\\end{array}\n",
        "\\right.\n",
        "\\]\n",
        "\n",
        "**Solution:**\n",
        "\n",
        "This system has three equations and three variables. We can solve it using substitution or matrix methods.\n",
        "\n",
        "1. Express \\(x\\) or \\(z\\) in terms of the other variables using one equation.\n",
        "2. Substitute this expression into the other two equations.\n",
        "3. Solve the resulting system of two equations in two variables.\n",
        "\n",
        "---\n",
        "\n",
        "### System 4:\n",
        "\\[\n",
        "\\left\\{\n",
        "\\begin{array}{l}\n",
        "2x - 3y + 4z + 2t = 2 \\\\\n",
        "3x + 2y - 5z + 3t = 3 \\\\\n",
        "4x - 3y + 2z - 5t = 4 \\\\\n",
        "5x + 4y - 3z + 2t = 5\n",
        "\\end{array}\n",
        "\\right.\n",
        "\\]\n",
        "\n",
        "**Solution:**\n",
        "\n",
        "This system has four equations and four variables. A similar approach as the previous systems can be used.\n",
        "\n",
        "1. Express one variable in terms of others from one equation.\n",
        "2. Substitute into the other equations.\n",
        "3. Continue solving using substitution or matrix methods.\n",
        "\n",
        "\n"
      ],
      "metadata": {
        "id": "QL-rg_s723XW"
      }
    },
    {
      "cell_type": "code",
      "source": [
        "import sympy as sp\n",
        "\n",
        "# Define symbols\n",
        "x, y, z, t = sp.symbols('x y z t')\n",
        "\n",
        "# System 1: 3x - 2y = 5, 2x + 3y = 7\n",
        "eq1 = sp.Eq(3*x - 2*y, 5)\n",
        "eq2 = sp.Eq(2*x + 3*y, 7)\n",
        "solution1 = sp.solve((eq1, eq2), (x, y))\n",
        "\n",
        "# System 2: 2x - 3y = 10, 4x + 5y = 20\n",
        "eq3 = sp.Eq(2*x - 3*y, 10)\n",
        "eq4 = sp.Eq(4*x + 5*y, 20)\n",
        "solution2 = sp.solve((eq3, eq4), (x, y))\n",
        "\n",
        "# System 3: 2x - y + z = 3, x + 2y - z = 1, 3x - y + 2z = 11\n",
        "eq5 = sp.Eq(2*x - y + z, 3)\n",
        "eq6 = sp.Eq(x + 2*y - z, 1)\n",
        "eq7 = sp.Eq(3*x - y + 2*z, 11)\n",
        "solution3 = sp.solve((eq5, eq6, eq7), (x, y, z))\n",
        "\n",
        "# System 4: 2x - 3y + 4z + 2t = 2, 3x + 2y - 5z + 3t = 3, 4x - 3y + 2z - 5t = 4, 5x + 4y - 3z + 2t = 5\n",
        "eq8 = sp.Eq(2*x - 3*y + 4*z + 2*t, 2)\n",
        "eq9 = sp.Eq(3*x + 2*y - 5*z + 3*t, 3)\n",
        "eq10 = sp.Eq(4*x - 3*y + 2*z - 5*t, 4)\n",
        "eq11 = sp.Eq(5*x + 4*y - 3*z + 2*t, 5)\n",
        "solution4 = sp.solve((eq8, eq9, eq10, eq11), (x, y, z, t))\n",
        "\n",
        "# Display solutions\n",
        "solution1, solution2, solution3, solution4\n"
      ],
      "metadata": {
        "id": "9iM8_lur29bA",
        "outputId": "76e25d58-bc72-44c9-fee8-fd40cd639f94",
        "colab": {
          "base_uri": "https://localhost:8080/"
        }
      },
      "execution_count": 1,
      "outputs": [
        {
          "output_type": "execute_result",
          "data": {
            "text/plain": [
              "({x: 29/13, y: 11/13},\n",
              " {x: 5, y: 0},\n",
              " {x: -1/4, y: 19/4, z: 33/4},\n",
              " {t: 0, x: 1, y: 0, z: 0})"
            ]
          },
          "metadata": {},
          "execution_count": 1
        }
      ]
    }
  ],
  "metadata": {
    "kernelspec": {
      "display_name": "Python 3",
      "language": "python",
      "name": "python3"
    },
    "language_info": {
      "codemirror_mode": {
        "name": "ipython",
        "version": 3
      },
      "file_extension": ".py",
      "mimetype": "text/x-python",
      "name": "python",
      "nbconvert_exporter": "python",
      "pygments_lexer": "ipython3",
      "version": "3.11.9"
    },
    "colab": {
      "provenance": []
    }
  },
  "nbformat": 4,
  "nbformat_minor": 0
}