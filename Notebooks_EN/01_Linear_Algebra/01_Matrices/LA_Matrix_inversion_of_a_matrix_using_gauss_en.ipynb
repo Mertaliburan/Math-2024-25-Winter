{
  "cells": [
    {
      "cell_type": "markdown",
      "metadata": {
        "id": "NeqohiLmqpvP"
      },
      "source": [
        "# Matrix Inversion using Gauss elimination method"
      ]
    },
    {
      "cell_type": "code",
      "execution_count": null,
      "metadata": {
        "id": "KrQKBRVaqpvQ"
      },
      "outputs": [],
      "source": [
        "from sympy import Matrix, Rational, latex\n",
        "from IPython.display import display, Markdown, Math, HTML\n",
        "\n",
        "class InvertibleMatrix:\n",
        "    def __init__(self, matrix):\n",
        "        \"\"\"\n",
        "        Initializes a matrix to be inverted using the Gauss-Jordan method.\n",
        "\n",
        "        Parameters:\n",
        "        - matrix: The square matrix to be inverted.\n",
        "        \"\"\"\n",
        "        # Convert all entries to Rational numbers\n",
        "        self.matrix = Matrix(matrix).applyfunc(Rational)\n",
        "        self.operations = []\n",
        "\n",
        "        # Check if the matrix is square\n",
        "        if self.matrix.rows != self.matrix.cols:\n",
        "            raise ValueError(\"The matrix must be square.\")\n",
        "\n",
        "        # Create the augmented matrix with the identity matrix (with Rational entries)\n",
        "        identity = Matrix.eye(self.matrix.rows).applyfunc(Rational)\n",
        "        self.aug_matrix = self.matrix.row_join(identity)\n",
        "\n",
        "        display(Markdown(\"**Initial Matrix (Starting matrix):**\"))\n",
        "        self.display_matrix()\n",
        "\n",
        "    def __repr__(self):\n",
        "        return repr(self.aug_matrix)\n",
        "\n",
        "    def __str__(self):\n",
        "        return str(self.aug_matrix)\n",
        "\n",
        "    def _repr_latex_(self):\n",
        "        return self.aug_matrix._repr_latex_()\n",
        "\n",
        "    def _validate_row_number(self, row):\n",
        "        if not isinstance(row, int):\n",
        "            raise TypeError(\"Row number must be an integer.\")\n",
        "        if row < 1 or row > self.aug_matrix.rows:\n",
        "            raise IndexError(f\"Row number must be in the range from 1 to {self.aug_matrix.rows}.\")\n",
        "        return row - 1\n",
        "\n",
        "    def add_row(self, target_row, source_row, coefficient):\n",
        "        target_idx = self._validate_row_number(target_row)\n",
        "        source_idx = self._validate_row_number(source_row)\n",
        "        coefficient = Rational(coefficient)\n",
        "\n",
        "        self.aug_matrix.row_op(target_idx, lambda v, j: v + coefficient * self.aug_matrix[source_idx, j])\n",
        "\n",
        "        operation_str = f\"r{target_row} = r{target_row} + {coefficient}*r{source_row}\"\n",
        "        self.operations.append(operation_str)\n",
        "        display(Markdown(f\"**Operation:** {operation_str}\"))\n",
        "        self.display_matrix()\n",
        "\n",
        "    def multiply_row(self, row, coefficient):\n",
        "        row_idx = self._validate_row_number(row)\n",
        "        coefficient = Rational(coefficient)\n",
        "\n",
        "        self.aug_matrix.row_op(row_idx, lambda v, _: coefficient * v)\n",
        "\n",
        "        operation_str = f\"r{row} = {coefficient}*r{row}\"\n",
        "        self.operations.append(operation_str)\n",
        "        display(Markdown(f\"**Operation:** {operation_str}\"))\n",
        "        self.display_matrix()\n",
        "\n",
        "    def swap_rows(self, row1, row2):\n",
        "        row1_idx = self._validate_row_number(row1)\n",
        "        row2_idx = self._validate_row_number(row2)\n",
        "\n",
        "        self.aug_matrix.row_swap(row1_idx, row2_idx)\n",
        "\n",
        "        operation_str = f\"Swap r{row1} <-> r{row2}\"\n",
        "        self.operations.append(operation_str)\n",
        "        display(Markdown(f\"**Operation:** {operation_str}\"))\n",
        "        self.display_matrix()\n",
        "\n",
        "    def display_matrix(self):\n",
        "        \"\"\"Displays the left and right matrix side by side in LaTeX format.\"\"\"\n",
        "        left_matrix = self.aug_matrix[:, :self.matrix.cols]\n",
        "        right_matrix = self.aug_matrix[:, self.matrix.cols:]\n",
        "\n",
        "        # Generate LaTeX code for both matrices\n",
        "        left_latex = latex(left_matrix)\n",
        "        right_latex = latex(right_matrix)\n",
        "\n",
        "        # Combine both matrices into a single display output\n",
        "        combined_latex = r\"\"\"\n",
        "        %s\n",
        "        \\quad\n",
        "        %s\n",
        "        \"\"\" % (left_latex, right_latex)\n",
        "\n",
        "        display(Math(combined_latex))\n",
        "\n",
        "    def print_operations(self):\n",
        "        display(Markdown(\"**Performed Operations:**\"))\n",
        "        for op in self.operations:\n",
        "            print(op)\n",
        "\n",
        "    def get_inverse(self):\n",
        "        \"\"\"Returns the inverse of the matrix after performing Gauss-Jordan elimination.\"\"\"\n",
        "        # Check if the left part of the augmented matrix is the identity matrix\n",
        "        left_matrix = self.aug_matrix[:, :self.matrix.cols]\n",
        "        if not left_matrix == Matrix.eye(self.matrix.rows):\n",
        "            raise ValueError(\"The matrix has not been reduced to the identity matrix. Continue the operations.\")\n",
        "        # Return the right part of the augmented matrix as the inverse\n",
        "        inverse_matrix = self.aug_matrix[:, self.matrix.cols:]\n",
        "        display(Markdown(\"**Inverse Matrix:**\"))\n",
        "        display(Math(latex(inverse_matrix)))\n",
        "        return inverse_matrix"
      ]
    },
    {
      "cell_type": "markdown",
      "metadata": {
        "id": "t_UjgQG4qpvR"
      },
      "source": [
        "**Example 1:**"
      ]
    },
    {
      "cell_type": "code",
      "execution_count": null,
      "metadata": {
        "id": "6No_1nfGqpvR",
        "outputId": "2c81e310-3fc2-4b72-cd70-e0557f74be57"
      },
      "outputs": [
        {
          "data": {
            "text/markdown": [
              "**Initial Matrix (Starting matrix):**"
            ],
            "text/plain": [
              "<IPython.core.display.Markdown object>"
            ]
          },
          "metadata": {},
          "output_type": "display_data"
        },
        {
          "data": {
            "text/latex": [
              "$\\displaystyle \n",
              "        \\left[\\begin{matrix}2 & 1\\\\5 & 3\\end{matrix}\\right] \n",
              "        \\quad\n",
              "        \\left[\\begin{matrix}1 & 0\\\\0 & 1\\end{matrix}\\right]\n",
              "        $"
            ],
            "text/plain": [
              "<IPython.core.display.Math object>"
            ]
          },
          "metadata": {},
          "output_type": "display_data"
        }
      ],
      "source": [
        "# Create an instance of the class with a matrix to be inverted\n",
        "initial_matrix = [[2, 1], [5, 3]] # 2x2 matrix\n",
        "m = InvertibleMatrix(initial_matrix) # Create an instance of the class"
      ]
    },
    {
      "cell_type": "code",
      "execution_count": null,
      "metadata": {
        "id": "Z4zPsVUWqpvR",
        "outputId": "1a425bc8-00f8-48aa-f10a-7a4723c95554"
      },
      "outputs": [
        {
          "name": "stdout",
          "output_type": "stream",
          "text": [
            "The inverse matrix is:\n"
          ]
        },
        {
          "data": {
            "text/latex": [
              "$\\displaystyle \\left[\\begin{matrix}3 & -1\\\\-5 & 2\\end{matrix}\\right]$"
            ],
            "text/plain": [
              "Matrix([\n",
              "[ 3, -1],\n",
              "[-5,  2]])"
            ]
          },
          "execution_count": 3,
          "metadata": {},
          "output_type": "execute_result"
        }
      ],
      "source": [
        "import sympy as sp # import the sympy library\n",
        "a = sp.Matrix(initial_matrix) # create the initial matrix\n",
        "print(\"The inverse matrix is:\")\n",
        "a.inv() # calculate the inverse matrix"
      ]
    },
    {
      "cell_type": "code",
      "execution_count": null,
      "metadata": {
        "id": "GmNzRq4BqpvS",
        "outputId": "b6ba537d-450a-432e-ac56-ac063cba0c48"
      },
      "outputs": [
        {
          "data": {
            "text/markdown": [
              "**Operation:** r2 = r2 + -5/2*r1"
            ],
            "text/plain": [
              "<IPython.core.display.Markdown object>"
            ]
          },
          "metadata": {},
          "output_type": "display_data"
        },
        {
          "data": {
            "text/latex": [
              "$\\displaystyle \n",
              "        \\left[\\begin{matrix}2 & 1\\\\0 & \\frac{1}{2}\\end{matrix}\\right] \n",
              "        \\quad\n",
              "        \\left[\\begin{matrix}1 & 0\\\\- \\frac{5}{2} & 1\\end{matrix}\\right]\n",
              "        $"
            ],
            "text/plain": [
              "<IPython.core.display.Math object>"
            ]
          },
          "metadata": {},
          "output_type": "display_data"
        }
      ],
      "source": [
        "# Add -5/2 times \"row 1\" to \"row 2\"\n",
        "m.add_row(2, 1, -5/2)"
      ]
    },
    {
      "cell_type": "code",
      "execution_count": null,
      "metadata": {
        "id": "EPZKziAOqpvS",
        "outputId": "c3ded46f-9f8b-4734-dfb9-c347ed13317e"
      },
      "outputs": [
        {
          "data": {
            "text/markdown": [
              "**Operation:** r1 = 1/2*r1"
            ],
            "text/plain": [
              "<IPython.core.display.Markdown object>"
            ]
          },
          "metadata": {},
          "output_type": "display_data"
        },
        {
          "data": {
            "text/latex": [
              "$\\displaystyle \n",
              "        \\left[\\begin{matrix}1 & \\frac{1}{2}\\\\0 & \\frac{1}{2}\\end{matrix}\\right] \n",
              "        \\quad\n",
              "        \\left[\\begin{matrix}\\frac{1}{2} & 0\\\\- \\frac{5}{2} & 1\\end{matrix}\\right]\n",
              "        $"
            ],
            "text/plain": [
              "<IPython.core.display.Math object>"
            ]
          },
          "metadata": {},
          "output_type": "display_data"
        }
      ],
      "source": [
        "# Multiply \"row 1\" by 1/2\n",
        "m.multiply_row(1, 1/2)"
      ]
    },
    {
      "cell_type": "code",
      "execution_count": null,
      "metadata": {
        "id": "m56gmvVnqpvS",
        "outputId": "0df77918-2041-450e-c57b-5dcb6b630c63"
      },
      "outputs": [
        {
          "data": {
            "text/markdown": [
              "**Operation:** r1 = r1 + -1*r2"
            ],
            "text/plain": [
              "<IPython.core.display.Markdown object>"
            ]
          },
          "metadata": {},
          "output_type": "display_data"
        },
        {
          "data": {
            "text/latex": [
              "$\\displaystyle \n",
              "        \\left[\\begin{matrix}1 & 0\\\\0 & \\frac{1}{2}\\end{matrix}\\right] \n",
              "        \\quad\n",
              "        \\left[\\begin{matrix}3 & -1\\\\- \\frac{5}{2} & 1\\end{matrix}\\right]\n",
              "        $"
            ],
            "text/plain": [
              "<IPython.core.display.Math object>"
            ]
          },
          "metadata": {},
          "output_type": "display_data"
        }
      ],
      "source": [
        "# Add -1 times \"row 2\" to \"row 1\"\n",
        "m.add_row(1, 2, -1)"
      ]
    },
    {
      "cell_type": "code",
      "execution_count": null,
      "metadata": {
        "id": "-6Qia3f3qpvS",
        "outputId": "5b428388-d621-463e-d692-3979a5e362c2"
      },
      "outputs": [
        {
          "data": {
            "text/markdown": [
              "**Operation:** r2 = 2*r2"
            ],
            "text/plain": [
              "<IPython.core.display.Markdown object>"
            ]
          },
          "metadata": {},
          "output_type": "display_data"
        },
        {
          "data": {
            "text/latex": [
              "$\\displaystyle \n",
              "        \\left[\\begin{matrix}1 & 0\\\\0 & 1\\end{matrix}\\right] \n",
              "        \\quad\n",
              "        \\left[\\begin{matrix}3 & -1\\\\-5 & 2\\end{matrix}\\right]\n",
              "        $"
            ],
            "text/plain": [
              "<IPython.core.display.Math object>"
            ]
          },
          "metadata": {},
          "output_type": "display_data"
        }
      ],
      "source": [
        "# Multiply \"row 2\" by 2\n",
        "m.multiply_row(2, 2)"
      ]
    },
    {
      "cell_type": "markdown",
      "metadata": {
        "id": "qA-mc1jpqpvS"
      },
      "source": [
        "The matrix has been correctly computed!\n",
        "\n",
        "**Example 2**"
      ]
    },
    {
      "cell_type": "code",
      "execution_count": null,
      "metadata": {
        "id": "1IcrBmdGqpvS",
        "outputId": "83ead197-4446-4ffd-f68b-967f3646d36d"
      },
      "outputs": [
        {
          "data": {
            "text/markdown": [
              "**Initial Matrix (Starting matrix):**"
            ],
            "text/plain": [
              "<IPython.core.display.Markdown object>"
            ]
          },
          "metadata": {},
          "output_type": "display_data"
        },
        {
          "data": {
            "text/latex": [
              "$\\displaystyle \n",
              "        \\left[\\begin{matrix}2 & 1 & 2\\\\5 & 3 & 1\\\\1 & 1 & 5\\end{matrix}\\right] \n",
              "        \\quad\n",
              "        \\left[\\begin{matrix}1 & 0 & 0\\\\0 & 1 & 0\\\\0 & 0 & 1\\end{matrix}\\right]\n",
              "        $"
            ],
            "text/plain": [
              "<IPython.core.display.Math object>"
            ]
          },
          "metadata": {},
          "output_type": "display_data"
        }
      ],
      "source": [
        "initial_matrix = [[2, 1, 2], [5, 3, 1], [1, 1, 5]] # 3x3 matrix\n",
        "m = InvertibleMatrix(initial_matrix) # Create an instance of the class\n",
        "sympy_m = sp.Matrix(initial_matrix) # create the initial matrix"
      ]
    },
    {
      "cell_type": "code",
      "execution_count": null,
      "metadata": {
        "id": "YcPyVlVYqpvS",
        "outputId": "97e0cfa7-b73b-4136-feab-92f1d4e19b7b"
      },
      "outputs": [
        {
          "data": {
            "text/latex": [
              "$\\displaystyle \\left[\\begin{matrix}\\frac{7}{4} & - \\frac{3}{8} & - \\frac{5}{8}\\\\-3 & 1 & 1\\\\\\frac{1}{4} & - \\frac{1}{8} & \\frac{1}{8}\\end{matrix}\\right]$"
            ],
            "text/plain": [
              "Matrix([\n",
              "[7/4, -3/8, -5/8],\n",
              "[ -3,    1,    1],\n",
              "[1/4, -1/8,  1/8]])"
            ]
          },
          "execution_count": 9,
          "metadata": {},
          "output_type": "execute_result"
        }
      ],
      "source": [
        "inverse = sympy_m.inv() # calculate the inverse matrix\n",
        "inverse"
      ]
    },
    {
      "cell_type": "code",
      "execution_count": null,
      "metadata": {
        "id": "At0YpzS9qpvT",
        "outputId": "e7ed1988-70b4-4286-c855-0cbd853826c8"
      },
      "outputs": [
        {
          "data": {
            "text/markdown": [
              "**Operation:** r2 = r2 + -5*r3"
            ],
            "text/plain": [
              "<IPython.core.display.Markdown object>"
            ]
          },
          "metadata": {},
          "output_type": "display_data"
        },
        {
          "data": {
            "text/latex": [
              "$\\displaystyle \n",
              "        \\left[\\begin{matrix}2 & 1 & 2\\\\0 & -2 & -24\\\\1 & 1 & 5\\end{matrix}\\right] \n",
              "        \\quad\n",
              "        \\left[\\begin{matrix}1 & 0 & 0\\\\0 & 1 & -5\\\\0 & 0 & 1\\end{matrix}\\right]\n",
              "        $"
            ],
            "text/plain": [
              "<IPython.core.display.Math object>"
            ]
          },
          "metadata": {},
          "output_type": "display_data"
        }
      ],
      "source": [
        "m.add_row(2, 3, -5)"
      ]
    },
    {
      "cell_type": "code",
      "execution_count": null,
      "metadata": {
        "id": "CUu5_LTyqpvT",
        "outputId": "b6909f98-20fe-4679-c7dd-80f05eca8ab5"
      },
      "outputs": [
        {
          "data": {
            "text/markdown": [
              "**Operation:** r3 = r3 + -1/2*r1"
            ],
            "text/plain": [
              "<IPython.core.display.Markdown object>"
            ]
          },
          "metadata": {},
          "output_type": "display_data"
        },
        {
          "data": {
            "text/latex": [
              "$\\displaystyle \n",
              "        \\left[\\begin{matrix}2 & 1 & 2\\\\0 & -2 & -24\\\\0 & \\frac{1}{2} & 4\\end{matrix}\\right] \n",
              "        \\quad\n",
              "        \\left[\\begin{matrix}1 & 0 & 0\\\\0 & 1 & -5\\\\- \\frac{1}{2} & 0 & 1\\end{matrix}\\right]\n",
              "        $"
            ],
            "text/plain": [
              "<IPython.core.display.Math object>"
            ]
          },
          "metadata": {},
          "output_type": "display_data"
        }
      ],
      "source": [
        "m.add_row(3, 1, -1/2)"
      ]
    },
    {
      "cell_type": "code",
      "execution_count": null,
      "metadata": {
        "id": "Pq4IxBC6qpvT",
        "outputId": "d777b167-02de-4c7e-81ce-c428f6f6898a"
      },
      "outputs": [
        {
          "data": {
            "text/markdown": [
              "**Operation:** r3 = 4*r3"
            ],
            "text/plain": [
              "<IPython.core.display.Markdown object>"
            ]
          },
          "metadata": {},
          "output_type": "display_data"
        },
        {
          "data": {
            "text/latex": [
              "$\\displaystyle \n",
              "        \\left[\\begin{matrix}2 & 1 & 2\\\\0 & -2 & -24\\\\0 & 2 & 16\\end{matrix}\\right] \n",
              "        \\quad\n",
              "        \\left[\\begin{matrix}1 & 0 & 0\\\\0 & 1 & -5\\\\-2 & 0 & 4\\end{matrix}\\right]\n",
              "        $"
            ],
            "text/plain": [
              "<IPython.core.display.Math object>"
            ]
          },
          "metadata": {},
          "output_type": "display_data"
        }
      ],
      "source": [
        "m.multiply_row(3, 4)"
      ]
    },
    {
      "cell_type": "code",
      "execution_count": null,
      "metadata": {
        "id": "eE_pWw2zqpvT",
        "outputId": "53af9170-efd6-46ed-caa9-f19428309b41"
      },
      "outputs": [
        {
          "data": {
            "text/markdown": [
              "**Operation:** r3 = r3 + 1*r2"
            ],
            "text/plain": [
              "<IPython.core.display.Markdown object>"
            ]
          },
          "metadata": {},
          "output_type": "display_data"
        },
        {
          "data": {
            "text/latex": [
              "$\\displaystyle \n",
              "        \\left[\\begin{matrix}2 & 1 & 2\\\\0 & -2 & -24\\\\0 & 0 & -8\\end{matrix}\\right] \n",
              "        \\quad\n",
              "        \\left[\\begin{matrix}1 & 0 & 0\\\\0 & 1 & -5\\\\-2 & 1 & -1\\end{matrix}\\right]\n",
              "        $"
            ],
            "text/plain": [
              "<IPython.core.display.Math object>"
            ]
          },
          "metadata": {},
          "output_type": "display_data"
        }
      ],
      "source": [
        "m.add_row(3, 2, 1)"
      ]
    },
    {
      "cell_type": "code",
      "execution_count": null,
      "metadata": {
        "id": "IT0E-1oeqpvT",
        "outputId": "184ea904-768f-4b0a-93c8-cff2d47db335"
      },
      "outputs": [
        {
          "data": {
            "text/markdown": [
              "**Operation:** r3 = -1/8*r3"
            ],
            "text/plain": [
              "<IPython.core.display.Markdown object>"
            ]
          },
          "metadata": {},
          "output_type": "display_data"
        },
        {
          "data": {
            "text/latex": [
              "$\\displaystyle \n",
              "        \\left[\\begin{matrix}2 & 1 & 2\\\\0 & -2 & -24\\\\0 & 0 & 1\\end{matrix}\\right] \n",
              "        \\quad\n",
              "        \\left[\\begin{matrix}1 & 0 & 0\\\\0 & 1 & -5\\\\\\frac{1}{4} & - \\frac{1}{8} & \\frac{1}{8}\\end{matrix}\\right]\n",
              "        $"
            ],
            "text/plain": [
              "<IPython.core.display.Math object>"
            ]
          },
          "metadata": {},
          "output_type": "display_data"
        }
      ],
      "source": [
        "m.multiply_row(3, -1/8)"
      ]
    },
    {
      "cell_type": "code",
      "execution_count": null,
      "metadata": {
        "id": "Yy2dEyS5qpvT",
        "outputId": "d07ef79d-c50a-4eed-c6f8-3c7963d08156"
      },
      "outputs": [
        {
          "data": {
            "text/markdown": [
              "**Operation:** r2 = -1/2*r2"
            ],
            "text/plain": [
              "<IPython.core.display.Markdown object>"
            ]
          },
          "metadata": {},
          "output_type": "display_data"
        },
        {
          "data": {
            "text/latex": [
              "$\\displaystyle \n",
              "        \\left[\\begin{matrix}2 & 1 & 2\\\\0 & 1 & 12\\\\0 & 0 & 1\\end{matrix}\\right] \n",
              "        \\quad\n",
              "        \\left[\\begin{matrix}1 & 0 & 0\\\\0 & - \\frac{1}{2} & \\frac{5}{2}\\\\\\frac{1}{4} & - \\frac{1}{8} & \\frac{1}{8}\\end{matrix}\\right]\n",
              "        $"
            ],
            "text/plain": [
              "<IPython.core.display.Math object>"
            ]
          },
          "metadata": {},
          "output_type": "display_data"
        }
      ],
      "source": [
        "m.multiply_row(2, -1/2)"
      ]
    },
    {
      "cell_type": "code",
      "execution_count": null,
      "metadata": {
        "id": "aYbGKWsDqpvT",
        "outputId": "8cbbd955-d53f-408f-e642-ecbc25544879"
      },
      "outputs": [
        {
          "data": {
            "text/markdown": [
              "**Operation:** r2 = r2 + -12*r3"
            ],
            "text/plain": [
              "<IPython.core.display.Markdown object>"
            ]
          },
          "metadata": {},
          "output_type": "display_data"
        },
        {
          "data": {
            "text/latex": [
              "$\\displaystyle \n",
              "        \\left[\\begin{matrix}2 & 1 & 2\\\\0 & 1 & 0\\\\0 & 0 & 1\\end{matrix}\\right] \n",
              "        \\quad\n",
              "        \\left[\\begin{matrix}1 & 0 & 0\\\\-3 & 1 & 1\\\\\\frac{1}{4} & - \\frac{1}{8} & \\frac{1}{8}\\end{matrix}\\right]\n",
              "        $"
            ],
            "text/plain": [
              "<IPython.core.display.Math object>"
            ]
          },
          "metadata": {},
          "output_type": "display_data"
        }
      ],
      "source": [
        "m.add_row(2, 3, -12)"
      ]
    },
    {
      "cell_type": "code",
      "execution_count": null,
      "metadata": {
        "id": "wdw6LnA8qpvT",
        "outputId": "b1d72508-471f-44f3-ddb5-1a1d2e44c61c"
      },
      "outputs": [
        {
          "data": {
            "text/markdown": [
              "**Operation:** r1 = r1 + -2*r3"
            ],
            "text/plain": [
              "<IPython.core.display.Markdown object>"
            ]
          },
          "metadata": {},
          "output_type": "display_data"
        },
        {
          "data": {
            "text/latex": [
              "$\\displaystyle \n",
              "        \\left[\\begin{matrix}2 & 1 & 0\\\\0 & 1 & 0\\\\0 & 0 & 1\\end{matrix}\\right] \n",
              "        \\quad\n",
              "        \\left[\\begin{matrix}\\frac{1}{2} & \\frac{1}{4} & - \\frac{1}{4}\\\\-3 & 1 & 1\\\\\\frac{1}{4} & - \\frac{1}{8} & \\frac{1}{8}\\end{matrix}\\right]\n",
              "        $"
            ],
            "text/plain": [
              "<IPython.core.display.Math object>"
            ]
          },
          "metadata": {},
          "output_type": "display_data"
        }
      ],
      "source": [
        "m.add_row(1, 3, -2)"
      ]
    },
    {
      "cell_type": "code",
      "execution_count": null,
      "metadata": {
        "id": "VYHsN0MaqpvU",
        "outputId": "f9b0afef-4f22-4d8a-d1f8-0237257ef7c1"
      },
      "outputs": [
        {
          "data": {
            "text/markdown": [
              "**Operation:** r1 = r1 + -1*r2"
            ],
            "text/plain": [
              "<IPython.core.display.Markdown object>"
            ]
          },
          "metadata": {},
          "output_type": "display_data"
        },
        {
          "data": {
            "text/latex": [
              "$\\displaystyle \n",
              "        \\left[\\begin{matrix}2 & 0 & 0\\\\0 & 1 & 0\\\\0 & 0 & 1\\end{matrix}\\right] \n",
              "        \\quad\n",
              "        \\left[\\begin{matrix}\\frac{7}{2} & - \\frac{3}{4} & - \\frac{5}{4}\\\\-3 & 1 & 1\\\\\\frac{1}{4} & - \\frac{1}{8} & \\frac{1}{8}\\end{matrix}\\right]\n",
              "        $"
            ],
            "text/plain": [
              "<IPython.core.display.Math object>"
            ]
          },
          "metadata": {},
          "output_type": "display_data"
        }
      ],
      "source": [
        "m.add_row(1, 2, -1)"
      ]
    },
    {
      "cell_type": "code",
      "execution_count": null,
      "metadata": {
        "id": "yMShYDIEqpvU",
        "outputId": "eb7bdb5d-78cb-40c1-ff45-693a685af095"
      },
      "outputs": [
        {
          "data": {
            "text/markdown": [
              "**Operation:** r1 = 1/2*r1"
            ],
            "text/plain": [
              "<IPython.core.display.Markdown object>"
            ]
          },
          "metadata": {},
          "output_type": "display_data"
        },
        {
          "data": {
            "text/latex": [
              "$\\displaystyle \n",
              "        \\left[\\begin{matrix}1 & 0 & 0\\\\0 & 1 & 0\\\\0 & 0 & 1\\end{matrix}\\right] \n",
              "        \\quad\n",
              "        \\left[\\begin{matrix}\\frac{7}{4} & - \\frac{3}{8} & - \\frac{5}{8}\\\\-3 & 1 & 1\\\\\\frac{1}{4} & - \\frac{1}{8} & \\frac{1}{8}\\end{matrix}\\right]\n",
              "        $"
            ],
            "text/plain": [
              "<IPython.core.display.Math object>"
            ]
          },
          "metadata": {},
          "output_type": "display_data"
        }
      ],
      "source": [
        "m.multiply_row(1, 1/2)"
      ]
    },
    {
      "cell_type": "markdown",
      "metadata": {
        "id": "pQJ867RqqpvU"
      },
      "source": [
        "---\n",
        "\n",
        "## Exercises for Students\n",
        "\n",
        "Find the inverse matrices using the Gauss method:\n",
        "\n",
        "$$\n",
        "A=\n",
        "\\begin{bmatrix}\n",
        "1 & 2\\\\\n",
        "3 & 4\n",
        "\\end{bmatrix}\n",
        ", \\qquad\n",
        "B=\n",
        "\\begin{bmatrix}\n",
        "1 & 2 & 3 \\\\\n",
        "4 & 5 & 1 \\\\\n",
        "2 & 3 & 2\n",
        "\\end{bmatrix}\n",
        ",\\qquad\n",
        "C=\n",
        "\\begin{bmatrix}\n",
        "0 & 0 & 1\\\\\n",
        "0 & 1 & 0\\\\\n",
        "1 & 0 & 0\n",
        "\\end{bmatrix}\n",
        "$$"
      ]
    },
    {
      "cell_type": "markdown",
      "source": [
        "### Given Matrix:\n",
        "\n",
        "We are given the matrix \\( C \\):\n",
        "\n",
        "$$\n",
        "C =\n",
        "\\begin{bmatrix}\n",
        "0 & 0 & 1 \\\\\n",
        "0 & 1 & 0 \\\\\n",
        "1 & 0 & 0\n",
        "\\end{bmatrix}\n",
        "$$\n",
        "\n",
        "### Step 1: Check if \\( C \\) is Invertible\n",
        "\n",
        "To determine if the matrix \\( C \\) has an inverse, we first calculate its determinant. If the determinant is non-zero, the matrix is invertible.\n",
        "\n",
        "The determinant of a \\( 3 \\times 3 \\) matrix is calculated as follows:\n",
        "\n",
        "$$\n",
        "\\text{det}(C) = c_{11}(c_{22}c_{33} - c_{23}c_{32}) - c_{12}(c_{21}c_{33} - c_{23}c_{31}) + c_{13}(c_{21}c_{32} - c_{22}c_{31})\n",
        "$$\n",
        "\n",
        "Substituting the values from matrix \\( C \\):\n",
        "\n",
        "$$\n",
        "\\text{det}(C) = 0 \\cdot (1 \\cdot 0 - 0 \\cdot 0) - 0 \\cdot (0 \\cdot 0 - 0 \\cdot 1) + 1 \\cdot (0 \\cdot 0 - 1 \\cdot 1)\n",
        "$$\n",
        "\n",
        "Simplifying:\n",
        "\n",
        "$$\n",
        "\\text{det}(C) = 0 - 0 + 1 \\cdot (-1) = -1\n",
        "$$\n",
        "\n",
        "Since the determinant is \\( -1 \\), which is non-zero, matrix \\( C \\) is invertible.\n",
        "\n",
        "### Step 2: Find the Inverse of Matrix \\( C \\)\n",
        "\n",
        "The inverse of matrix \\( C \\) can be calculated using the formula for the inverse of a \\( 3 \\times 3 \\) matrix or by using a method like Gaussian elimination or the adjugate method. For matrix \\( C \\), we observe that \\( C \\) is a **permutation matrix** that swaps rows and columns. When multiplied by itself, it results in the identity matrix. Therefore:\n",
        "\n",
        "$$\n",
        "C^{-1} = C\n",
        "$$\n",
        "\n",
        "### Final Answer:\n",
        "\n",
        "The inverse of matrix \\( C \\) is:\n",
        "\n",
        "$$\n",
        "C^{-1} =\n",
        "\\begin{bmatrix}\n",
        "0 & 0 & 1 \\\\\n",
        "0 & 1 & 0 \\\\\n",
        "1 & 0 & 0\n",
        "\\end{bmatrix}\n",
        "$$\n",
        "\n",
        "\n"
      ],
      "metadata": {
        "id": "RJyQp8eusIns"
      }
    },
    {
      "cell_type": "code",
      "source": [
        "import sympy as sp #Exercise 3\n",
        "\n",
        "# Define the matrix C\n",
        "C = sp.Matrix([\n",
        "    [0, 0, 1],\n",
        "    [0, 1, 0],\n",
        "    [1, 0, 0]\n",
        "])\n",
        "\n",
        "# Calculate the inverse of C\n",
        "C_inv = C.inv()\n",
        "\n",
        "# Display the inverse of C\n",
        "sp.pprint(C_inv)\n"
      ],
      "metadata": {
        "id": "_nu8CXILsQXs",
        "outputId": "9348bfb6-7ac2-44f3-ff36-74d046077dda",
        "colab": {
          "base_uri": "https://localhost:8080/"
        }
      },
      "execution_count": 3,
      "outputs": [
        {
          "output_type": "stream",
          "name": "stdout",
          "text": [
            "⎡0  0  1⎤\n",
            "⎢       ⎥\n",
            "⎢0  1  0⎥\n",
            "⎢       ⎥\n",
            "⎣1  0  0⎦\n"
          ]
        }
      ]
    },
    {
      "cell_type": "markdown",
      "source": [
        "### Given Matrix:\n",
        "\n",
        "We are given the matrix \\( B \\):\n",
        "\n",
        "$$\n",
        "B =\n",
        "\\begin{bmatrix}\n",
        "1 & 2 & 3 \\\\\n",
        "4 & 5 & 1 \\\\\n",
        "2 & 3 & 2\n",
        "\\end{bmatrix}\n",
        "$$\n",
        "\n",
        "### Step 1: Augment the Matrix with the Identity Matrix\n",
        "\n",
        "To find the inverse of matrix \\( B \\) using the Gauss-Jordan elimination method, we first augment matrix \\( B \\) with the identity matrix of the same size.\n",
        "\n",
        "The augmented matrix is:\n",
        "\n",
        "$$\n",
        "[B | I] =\n",
        "\\left[\\begin{array}{ccc|ccc}\n",
        "1 & 2 & 3 & 1 & 0 & 0 \\\\\n",
        "4 & 5 & 1 & 0 & 1 & 0 \\\\\n",
        "2 & 3 & 2 & 0 & 0 & 1\n",
        "\\end{array}\\right]\n",
        "$$\n",
        "\n",
        "### Step 2: Perform Row Operations\n",
        "\n",
        "We will perform row operations to reduce the augmented matrix to row echelon form (RREF). The goal is to transform the left side into the identity matrix, which will leave the inverse of \\( B \\) on the right side of the augmented matrix.\n",
        "\n",
        "#### Step 2.1: Make the first element of the first column 1 (already done).\n",
        "\n",
        "The matrix remains:\n",
        "\n",
        "$$\n",
        "\\left[\\begin{array}{ccc|ccc}\n",
        "1 & 2 & 3 & 1 & 0 & 0 \\\\\n",
        "4 & 5 & 1 & 0 & 1 & 0 \\\\\n",
        "2 & 3 & 2 & 0 & 0 & 1\n",
        "\\end{array}\\right]\n",
        "$$\n",
        "\n",
        "#### Step 2.2: Make the first element of the second and third rows 0.\n",
        "\n",
        "We subtract 4 times the first row from the second row:\n",
        "\n",
        "Row 2: \\( R_2 \\rightarrow R_2 - 4 \\cdot R_1 \\)\n",
        "\n",
        "$$\n",
        "\\left[\\begin{array}{ccc|ccc}\n",
        "1 & 2 & 3 & 1 & 0 & 0 \\\\\n",
        "0 & -3 & -11 & -4 & 1 & 0 \\\\\n",
        "2 & 3 & 2 & 0 & 0 & 1\n",
        "\\end{array}\\right]\n",
        "$$\n",
        "\n",
        "Next, we subtract 2 times the first row from the third row:\n",
        "\n",
        "Row 3: \\( R_3 \\rightarrow R_3 - 2 \\cdot R_1 \\)\n",
        "\n",
        "$$\n",
        "\\left[\\begin{array}{ccc|ccc}\n",
        "1 & 2 & 3 & 1 & 0 & 0 \\\\\n",
        "0 & -3 & -11 & -4 & 1 & 0 \\\\\n",
        "0 & -1 & -4 & -2 & 0 & 1\n",
        "\\end{array}\\right]\n",
        "$$\n",
        "\n",
        "#### Step 2.3: Make the second element of the second row 1.\n",
        "\n",
        "We divide the second row by -3:\n",
        "\n",
        "Row 2: \\( R_2 \\rightarrow \\frac{1}{-3} \\cdot R_2 \\)\n",
        "\n",
        "$$\n",
        "\\left[\\begin{array}{ccc|ccc}\n",
        "1 & 2 & 3 & 1 & 0 & 0 \\\\\n",
        "0 & 1 & \\frac{11}{3} & \\frac{4}{3} & -\\frac{1}{3} & 0 \\\\\n",
        "0 & -1 & -4 & -2 & 0 & 1\n",
        "\\end{array}\\right]\n",
        "$$\n",
        "\n",
        "#### Step 2.4: Make the second element of the first and third rows 0.\n",
        "\n",
        "We subtract 2 times the second row from the first row:\n",
        "\n",
        "Row 1: \\( R_1 \\rightarrow R_1 - 2 \\cdot R_2 \\)\n",
        "\n",
        "$$\n",
        "\\left[\\begin{array}{ccc|ccc}\n",
        "1 & 0 & -\\frac{5}{3} & -\\frac{5}{3} & \\frac{2}{3} & 0 \\\\\n",
        "0 & 1 & \\frac{11}{3} & \\frac{4}{3} & -\\frac{1}{3} & 0 \\\\\n",
        "0 & -1 & -4 & -2 & 0 & 1\n",
        "\\end{array}\\right]\n",
        "$$\n",
        "\n",
        "Next, we add the second row to the third row:\n",
        "\n",
        "Row 3: \\( R_3 \\rightarrow R_3 + R_2 \\)\n",
        "\n",
        "$$\n",
        "\\left[\\begin{array}{ccc|ccc}\n",
        "1 & 0 & -\\frac{5}{3} & -\\frac{5}{3} & \\frac{2}{3} & 0 \\\\\n",
        "0 & 1 & \\frac{11}{3} & \\frac{4}{3} & -\\frac{1}{3} & 0 \\\\\n",
        "0 & 0 & -\\frac{1}{3} & \\frac{2}{3} & -\\frac{1}{3} & 1\n",
        "\\end{array}\\right]\n",
        "$$\n",
        "\n",
        "#### Step 2.5: Make the third element of the third row 1.\n",
        "\n",
        "We multiply the third row by -3:\n",
        "\n",
        "Row 3: \\( R_3 \\rightarrow -3 \\cdot R_3 \\)\n",
        "\n",
        "$$\n",
        "\\left[\\begin{array}{ccc|ccc}\n",
        "1 & 0 & -\\frac{5}{3} & -\\frac{5}{3} & \\frac{2}{3} & 0 \\\\\n",
        "0 & 1 & \\frac{11}{3} & \\frac{4}{3} & -\\frac{1}{3} & 0 \\\\\n",
        "0 & 0 & 1 & -2 & 1 & -3\n",
        "\\end{array}\\right]\n",
        "$$\n",
        "\n",
        "#### Step 2.6: Make the third element of the first and second rows 0.\n",
        "\n",
        "We add \\(\\frac{5}{3}\\) times the third row to the first row:\n",
        "\n",
        "Row 1: \\( R_1 \\rightarrow R_1 + \\frac{5}{3} \\cdot R_3 \\)\n",
        "\n",
        "$$\n",
        "\\left[\\begin{array}{ccc|ccc}\n",
        "1 & 0 & 0 & 0 & 1 & -5 \\\\\n",
        "0 & 1 & \\frac{11}{3} & \\frac{4}{3} & -\\frac{1}{3} & 0 \\\\\n",
        "0 & 0 & 1 & -2 & 1 & -3\n",
        "\\end{array}\\right]\n",
        "$$\n",
        "\n",
        "Next, we subtract \\(\\frac{11}{3}\\) times the third row from the second row:\n",
        "\n",
        "Row 2: \\( R_2 \\rightarrow R_2 - \\frac{11}{3} \\cdot R_3 \\)\n",
        "\n",
        "$$\n",
        "\\left[\\begin{array}{ccc|ccc}\n",
        "1 & 0 & 0 & 0 & 1 & -5 \\\\\n",
        "0 & 1 & 0 & 6 & -4 & 11 \\\\\n",
        "0 & 0 & 1 & -2 & 1 & -3\n",
        "\\end{array}\\right]\n",
        "$$\n",
        "\n",
        "### Step 3: Extract the Inverse Matrix\n",
        "\n",
        "Now that the left side of the augmented matrix is the identity matrix, the right side is the inverse of matrix \\( B \\):\n",
        "\n",
        "$$\n",
        "B^{-1} =\n",
        "\\begin{bmatrix}\n",
        "0 & 1 & -5 \\\\\n",
        "6 & -4 & 11 \\\\\n",
        "-2 & 1 & -3\n",
        "\\end{bmatrix}\n",
        "$$\n",
        "\n",
        "### Final Answer:\n",
        "\n",
        "The inverse of matrix \\( B \\) is:\n",
        "\n",
        "$$\n",
        "B^{-1} =\n",
        "\\begin{bmatrix}\n",
        "0 & 1 & -5 \\\\\n",
        "6 & -4 & 11 \\\\\n",
        "-2 & 1 & -3\n",
        "\\end{bmatrix}\n",
        "$$\n",
        "\n",
        "\n"
      ],
      "metadata": {
        "id": "GlrXBis_rt6l"
      }
    },
    {
      "cell_type": "code",
      "source": [
        "import sympy as sp #Exercise 2\n",
        "\n",
        "# Define the matrix B\n",
        "B = sp.Matrix([\n",
        "    [1, 2, 3],\n",
        "    [4, 5, 1],\n",
        "    [2, 3, 2]\n",
        "])\n",
        "\n",
        "# Calculate the inverse of B\n",
        "B_inv = B.inv()\n",
        "\n",
        "# Display the inverse of B\n",
        "sp.pprint(B_inv)\n"
      ],
      "metadata": {
        "id": "ExRJAA5fr0nA",
        "outputId": "ef1de011-ea5b-430c-a216-336e66114fd5",
        "colab": {
          "base_uri": "https://localhost:8080/"
        }
      },
      "execution_count": 2,
      "outputs": [
        {
          "output_type": "stream",
          "name": "stdout",
          "text": [
            "⎡7   5   -13⎤\n",
            "⎢           ⎥\n",
            "⎢-6  -4  11 ⎥\n",
            "⎢           ⎥\n",
            "⎣2   1   -3 ⎦\n"
          ]
        }
      ]
    },
    {
      "cell_type": "markdown",
      "source": [
        "### Given Matrix:\n",
        "\n",
        "We are given the matrix \\( A \\):\n",
        "\n",
        "$$\n",
        "A =\n",
        "\\begin{bmatrix}\n",
        "1 & 2 \\\\\n",
        "3 & 4\n",
        "\\end{bmatrix}\n",
        "$$\n",
        "\n",
        "### Step 1: Augment the Matrix with the Identity Matrix\n",
        "\n",
        "To find the inverse of a matrix using the Gauss-Jordan elimination method, we augment the matrix \\( A \\) with the identity matrix of the same size.\n",
        "\n",
        "The augmented matrix is:\n",
        "\n",
        "$$\n",
        "[A | I] =\n",
        "\\left[\\begin{array}{cc|cc}\n",
        "1 & 2 & 1 & 0 \\\\\n",
        "3 & 4 & 0 & 1\n",
        "\\end{array}\\right]\n",
        "$$\n",
        "\n",
        "### Step 2: Perform Row Operations\n",
        "\n",
        "We apply row operations to transform the augmented matrix into reduced row echelon form (RREF), which will give us the inverse matrix on the right side.\n",
        "\n",
        "#### Step 2.1: Make the first element of the first column 1 (already done).\n",
        "\n",
        "The matrix remains:\n",
        "\n",
        "$$\n",
        "\\left[\\begin{array}{cc|cc}\n",
        "1 & 2 & 1 & 0 \\\\\n",
        "3 & 4 & 0 & 1\n",
        "\\end{array}\\right]\n",
        "$$\n",
        "\n",
        "#### Step 2.2: Make the first element of the second row 0.\n",
        "\n",
        "We subtract 3 times the first row from the second row:\n",
        "\n",
        "Row 2: \\( R_2 \\rightarrow R_2 - 3 \\cdot R_1 \\)\n",
        "\n",
        "$$\n",
        "\\left[\\begin{array}{cc|cc}\n",
        "1 & 2 & 1 & 0 \\\\\n",
        "0 & -2 & -3 & 1\n",
        "\\end{array}\\right]\n",
        "$$\n",
        "\n",
        "#### Step 2.3: Make the second element of the second row 1.\n",
        "\n",
        "We divide the second row by -2:\n",
        "\n",
        "Row 2: \\( R_2 \\rightarrow \\frac{1}{-2} \\cdot R_2 \\)\n",
        "\n",
        "$$\n",
        "\\left[\\begin{array}{cc|cc}\n",
        "1 & 2 & 1 & 0 \\\\\n",
        "0 & 1 & \\frac{3}{2} & -\\frac{1}{2}\n",
        "\\end{array}\\right]\n",
        "$$\n",
        "\n",
        "#### Step 2.4: Make the second element of the first row 0.\n",
        "\n",
        "We subtract 2 times the second row from the first row:\n",
        "\n",
        "Row 1: \\( R_1 \\rightarrow R_1 - 2 \\cdot R_2 \\)\n",
        "\n",
        "$$\n",
        "\\left[\\begin{array}{cc|cc}\n",
        "1 & 0 & -2 & 1 \\\\\n",
        "0 & 1 & \\frac{3}{2} & -\\frac{1}{2}\n",
        "\\end{array}\\right]\n",
        "$$\n",
        "\n",
        "### Step 3: Extract the Inverse Matrix\n",
        "\n",
        "Now that the left side of the augmented matrix is the identity matrix, the right side is the inverse of matrix \\( A \\):\n",
        "\n",
        "$$\n",
        "A^{-1} =\n",
        "\\begin{bmatrix}\n",
        "-2 & 1 \\\\\n",
        "\\frac{3}{2} & -\\frac{1}{2}\n",
        "\\end{bmatrix}\n",
        "$$\n",
        "\n",
        "### Final Answer:\n",
        "\n",
        "The inverse of matrix \\( A \\) is:\n",
        "\n",
        "$$\n",
        "A^{-1} =\n",
        "\\begin{bmatrix}\n",
        "-2 & 1 \\\\\n",
        "\\frac{3}{2} & -\\frac{1}{2}\n",
        "\\end{bmatrix}\n",
        "$$\n",
        "\n",
        "\n"
      ],
      "metadata": {
        "id": "dY4hmGmMrF-m"
      }
    },
    {
      "cell_type": "code",
      "source": [
        "import sympy as sp #Exercise 1\n",
        "\n",
        "# Define the matrix A\n",
        "A = sp.Matrix([\n",
        "    [1, 2],\n",
        "    [3, 4]\n",
        "])\n",
        "\n",
        "# Augment the matrix A with the identity matrix\n",
        "augmented_matrix = A.row_join(sp.eye(2))\n",
        "\n",
        "# Perform Gauss-Jordan elimination to find the inverse\n",
        "augmented_matrix_rref, pivot_columns = augmented_matrix.rref()\n",
        "\n",
        "# The inverse is on the right side of the augmented matrix\n",
        "A_inv = augmented_matrix_rref[:, 2:]\n",
        "\n",
        "# Display the inverse of A\n",
        "sp.pprint(A_inv)\n"
      ],
      "metadata": {
        "id": "NS-vd83wrMvs",
        "outputId": "1795ff0a-ec12-49e9-a635-c116dff55b6c",
        "colab": {
          "base_uri": "https://localhost:8080/"
        }
      },
      "execution_count": 1,
      "outputs": [
        {
          "output_type": "stream",
          "name": "stdout",
          "text": [
            "⎡-2    1  ⎤\n",
            "⎢         ⎥\n",
            "⎣3/2  -1/2⎦\n"
          ]
        }
      ]
    }
  ],
  "metadata": {
    "kernelspec": {
      "display_name": "Python 3",
      "language": "python",
      "name": "python3"
    },
    "language_info": {
      "codemirror_mode": {
        "name": "ipython",
        "version": 3
      },
      "file_extension": ".py",
      "mimetype": "text/x-python",
      "name": "python",
      "nbconvert_exporter": "python",
      "pygments_lexer": "ipython3",
      "version": "3.11.9"
    },
    "colab": {
      "provenance": []
    }
  },
  "nbformat": 4,
  "nbformat_minor": 0
}