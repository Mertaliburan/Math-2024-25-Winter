{
  "cells": [
    {
      "cell_type": "markdown",
      "metadata": {
        "id": "EXQV-h3njRY4"
      },
      "source": [
        "# Determinants of 3x3 and 4x4 Matrices using Laplace expansion\n",
        "\n",
        "## Determinant of a 3x3 Matrix using Laplace expansion\n",
        "\n",
        "The general formula for the determinant of a 3x3 matrix is as follows:\n",
        "\n",
        "$$\n",
        "\\mathbf{A} =\n",
        "\\begin{pmatrix}\n",
        "a_{11} & a_{12} & a_{13} \\\\\n",
        "a_{21} & a_{22} & a_{23} \\\\\n",
        "a_{31} & a_{32} & a_{33}\n",
        "\\end{pmatrix}\n",
        "$$\n",
        "\n",
        "The determinant of a 3x3 matrix is calculated by expanding along the first row. We use Laplace expansion, which involves selecting elements of the first row and calculating the determinants of the 2x2 matrices that result from removing the appropriate rows and columns.\n",
        "\n",
        "Expanding along the first row of a 3x3 matrix:\n",
        "\n",
        "$$\n",
        "\\text{det}(A) =\n",
        "(-1)^{1+1}a_{11} \\cdot\n",
        "\\text{det}\n",
        "\\begin{pmatrix}\n",
        "a_{22} & a_{23} \\\\\n",
        "a_{32} & a_{33}\n",
        "\\end{pmatrix}\n",
        "+(-1)^{1+2} a_{12} \\cdot \\text{det}\n",
        "\\begin{pmatrix}\n",
        "a_{21} & a_{23} \\\\\n",
        "a_{31} & a_{33}\n",
        "\\end{pmatrix}\n",
        "+(-1)^{1+3}a_{13} \\cdot \\text{det}\n",
        "\\begin{pmatrix}\n",
        "a_{21} & a_{22} \\\\\n",
        "a_{31} & a_{32}\n",
        "\\end{pmatrix}\n",
        "$$\n",
        "\n",
        "### Example of a 3x3 Matrix\n",
        "\n",
        "For the matrix:\n",
        "\n",
        "$$\n",
        "\\mathbf{A} =\n",
        "\\begin{pmatrix}\n",
        "2 & 3 & 1 \\\\\n",
        "1 & 4 & 5 \\\\\n",
        "3 & 2 & 1\n",
        "\\end{pmatrix}\n",
        "$$\n",
        "\n",
        "Laplace expansion:\n",
        "\n",
        "$$\n",
        "\\text{det}(A) = 2 \\cdot\n",
        "\\text{det}\n",
        "\\begin{pmatrix}\n",
        "4 & 5 \\\\\n",
        "2 & 1\n",
        "\\end{pmatrix}\n",
        "- 3 \\cdot\n",
        "\\text{det}\n",
        "\\begin{pmatrix}\n",
        "1 & 5 \\\\\n",
        "3 & 1\n",
        "\\end{pmatrix}\n",
        "+ 1 \\cdot\n",
        "\\text{det}\n",
        "\\begin{pmatrix}\n",
        "1 & 4 \\\\\n",
        "3 & 2\n",
        "\\end{pmatrix}\n",
        "$$\n",
        "\n",
        "## Determinant of a 4x4 Matrix using Laplace Expansion\n",
        "\n",
        "The general formula for the determinant of a 4x4 matrix, where the matrix looks as follows:\n",
        "\n",
        "$$\n",
        "\\mathbf{B} =\n",
        "\\begin{pmatrix}\n",
        "a_{11} & a_{12} & a_{13} & a_{14} \\\\\n",
        "a_{21} & a_{22} & a_{23} & a_{24} \\\\\n",
        "a_{31} & a_{32} & a_{33} & a_{34} \\\\\n",
        "a_{41} & a_{42} & a_{43} & a_{44}\n",
        "\\end{pmatrix}\n",
        "$$\n",
        "\n",
        "The determinant of a 4x4 matrix is calculated by expanding along the first row. Similar to the 3x3 case, elements of the first row are multiplied by the determinants of the 3x3 matrices that result from removing the appropriate rows and columns.\n",
        "\n",
        "Expanding along the first row of a 4x4 matrix:\n",
        "\n",
        "$$\n",
        "\\text{det}(B) =\n",
        "(-1)^{1+1} \\cdot\n",
        "a_{11} \\cdot \\text{det}\n",
        "\\begin{pmatrix}\n",
        "a_{22} & a_{23} & a_{24} \\\\\n",
        "a_{32} & a_{33} & a_{34} \\\\\n",
        "a_{42} & a_{43} & a_{44}\n",
        "\\end{pmatrix}\n",
        "+ (-1)^{1+2} \\cdot\n",
        "a_{12} \\cdot \\text{det}\n",
        "\\begin{pmatrix}\n",
        "a_{21} & a_{23} & a_{24} \\\\\n",
        "a_{31} & a_{33} & a_{34} \\\\\n",
        "a_{41} & a_{43} & a_{44}\n",
        "\\end{pmatrix}\n",
        "+ (-1)^{1+3} \\cdot\n",
        "a_{13} \\cdot \\text{det}\n",
        "\\begin{pmatrix}\n",
        "a_{21} & a_{22} & a_{24} \\\\\n",
        "a_{31} & a_{32} & a_{34} \\\\\n",
        "a_{41} & a_{42} & a_{44}\n",
        "\\end{pmatrix}\n",
        "+ (-1)^{1+4} \\cdot\n",
        "a_{14} \\cdot \\text{det}\n",
        "\\begin{pmatrix}\n",
        "a_{21} & a_{22} & a_{23} \\\\\n",
        "a_{31} & a_{32} & a_{33} \\\\\n",
        "a_{41} & a_{42} & a_{43}\n",
        "\\end{pmatrix}\n",
        "$$\n",
        "\n",
        "### Example of a 4x4 Matrix\n",
        "\n",
        "For the matrix:\n",
        "\n",
        "$$\n",
        "\\mathbf{B} =\n",
        "\\begin{pmatrix}\n",
        "2 & 3 & 1 & 4 \\\\\n",
        "1 & 4 & 5 & 6 \\\\\n",
        "3 & 2 & 1 & 5 \\\\\n",
        "2 & 1 & 4 & 3\n",
        "\\end{pmatrix}\n",
        "$$\n",
        "\n",
        "Laplace expansion:\n",
        "\n",
        "$$\n",
        "\\text{det}(B) = 2 \\cdot \\text{det}\n",
        "\\begin{pmatrix}\n",
        "4 & 5 & 6 \\\\\n",
        "2 & 1 & 5 \\\\\n",
        "1 & 4 & 3\n",
        "\\end{pmatrix}\n",
        "- 3 \\cdot \\text{det}\n",
        "\\begin{pmatrix}\n",
        "1 & 5 & 6 \\\\\n",
        "3 & 1 & 5 \\\\\n",
        "2 & 4 & 3\n",
        "\\end{pmatrix}\n",
        "+ 1 \\cdot \\text{det}\n",
        "\\begin{pmatrix}\n",
        "1 & 4 & 6 \\\\\n",
        "3 & 2 & 5 \\\\\n",
        "2 & 1 & 3\n",
        "\\end{pmatrix}\n",
        "- 4 \\cdot \\text{det}\n",
        "\\begin{pmatrix}\n",
        "1 & 4 & 5 \\\\\n",
        "3 & 2 & 1 \\\\\n",
        "2 & 1 & 4\n",
        "\\end{pmatrix}\n",
        "$$\n",
        "\n",
        "### Calculating Determinants in Python using SymPy\n",
        "\n",
        "Below we will calculate the determinants of 3x3 and 4x4 matrices using Laplace expansion in Python, using the **SymPy** library."
      ]
    },
    {
      "cell_type": "code",
      "execution_count": null,
      "metadata": {
        "id": "QVS7J977jRY5",
        "outputId": "1994cfc9-77df-428a-9eaf-13b438708aae"
      },
      "outputs": [
        {
          "data": {
            "text/latex": [
              "$\\displaystyle \\left[\\begin{matrix}2 & 3 & 1\\\\1 & 4 & 5\\\\3 & 2 & 1\\end{matrix}\\right]$"
            ],
            "text/plain": [
              "Matrix([\n",
              "[2, 3, 1],\n",
              "[1, 4, 5],\n",
              "[3, 2, 1]])"
            ]
          },
          "execution_count": 1,
          "metadata": {},
          "output_type": "execute_result"
        }
      ],
      "source": [
        "import sympy as sp\n",
        "\n",
        "# 3x3 Matrix\n",
        "A = sp.Matrix([[2, 3, 1], [1, 4, 5], [3, 2, 1]])\n",
        "A"
      ]
    },
    {
      "cell_type": "code",
      "execution_count": null,
      "metadata": {
        "id": "Ecrs5XLfjRY6",
        "outputId": "b06b19cb-5732-4d5a-864d-96a8d5eca712"
      },
      "outputs": [
        {
          "data": {
            "text/plain": [
              "True"
            ]
          },
          "execution_count": 2,
          "metadata": {},
          "output_type": "execute_result"
        }
      ],
      "source": [
        "# Select the first row [2, 3, 1]\n",
        "# Define the appropriate minors\n",
        "M11 = sp.Matrix([[4, 5], [2, 1]])\n",
        "M12 = sp.Matrix([[1, 5], [3, 1]])\n",
        "M13 = sp.Matrix([[1, 4], [3, 2]])\n",
        "\n",
        "# Calculate the determinant\n",
        "d = 2*M11.det() - 3*M12.det() + 1*M13.det()\n",
        "\n",
        "d == A.det()"
      ]
    },
    {
      "cell_type": "code",
      "execution_count": null,
      "metadata": {
        "id": "oO6Am6bNjRY6",
        "outputId": "ef6fb514-eeb4-4982-f904-ac43de23d84e"
      },
      "outputs": [
        {
          "data": {
            "text/latex": [
              "$\\displaystyle \\left[\\begin{matrix}2 & 0 & 1 & 0\\\\1 & 4 & 5 & 6\\\\3 & 2 & 1 & 5\\\\2 & 1 & 4 & 3\\end{matrix}\\right]$"
            ],
            "text/plain": [
              "Matrix([\n",
              "[2, 0, 1, 0],\n",
              "[1, 4, 5, 6],\n",
              "[3, 2, 1, 5],\n",
              "[2, 1, 4, 3]])"
            ]
          },
          "execution_count": 3,
          "metadata": {},
          "output_type": "execute_result"
        }
      ],
      "source": [
        "# 4x4 Matrix\n",
        "B = sp.Matrix([[2, 0, 1, 0], [1, 4, 5, 6], [3, 2, 1, 5], [2, 1, 4, 3]])\n",
        "B"
      ]
    },
    {
      "cell_type": "code",
      "execution_count": null,
      "metadata": {
        "id": "FFxkLTPFjRY7",
        "outputId": "d79187ba-f38a-46df-edf2-8a647cc6c7f8"
      },
      "outputs": [
        {
          "data": {
            "text/plain": [
              "True"
            ]
          },
          "execution_count": 4,
          "metadata": {},
          "output_type": "execute_result"
        }
      ],
      "source": [
        "# Verify the correctness of the calculations\n",
        "M11 = sp.Matrix([[4, 5, 6], [2, 1, 5], [1, 4, 3]])\n",
        "M12 = sp.Matrix([[1, 5, 6], [3, 1, 5], [2, 4, 3]])\n",
        "M13 = sp.Matrix([[1, 4, 6], [3, 2, 5], [2, 1, 3]])\n",
        "M14 = sp.Matrix([[1, 4, 5], [3, 2, 1], [2, 1, 4]])\n",
        "\n",
        "(2*M11.det() - 0*M12.det() + 1*M13.det() - 0*M14.det()) == B.det()\n",
        "\n",
        "d = 2*M11.det() - 0*M12.det() + 1*M13.det() - 0*M14.det()\n",
        "d == B.det()"
      ]
    },
    {
      "cell_type": "markdown",
      "metadata": {
        "id": "QFxdia5IjRY7"
      },
      "source": [
        "Note that only the first and third terms have non-zero coefficients, so it is not necessary to calculate the determinants of all minors!\n",
        "\n",
        "---\n",
        "\n",
        "## Exercises for Students\n",
        "\n",
        "Calculate the determinants of the following matrices:\n",
        "\n",
        "$$\n",
        "\\mathbf{A} =\n",
        "\\begin{pmatrix}\n",
        "2 & 3 & 1 \\\\\n",
        "1 & 4 & 0 \\\\\n",
        "3 & 2 & 1\n",
        "\\end{pmatrix}\n",
        ",\\qquad\n",
        "\\mathbf{B} =\n",
        "\\begin{pmatrix}\n",
        "2 & 3 & 1 \\\\\n",
        "1 & 4 & 0 \\\\\n",
        "3 & 2 & 0  \\\\\n",
        "\\end{pmatrix}\n",
        ",\\qquad\n",
        "\\mathbf{C} =\n",
        "\\begin{pmatrix}\n",
        "2 & 3 & 1 & 4 \\\\\n",
        "1 & 0 & 0 & 6 \\\\\n",
        "3 & 2 & 1 & 5 \\\\\n",
        "2 & 1 & 4 & 0\n",
        "\\end{pmatrix}\n",
        ",\\qquad\n",
        "\\mathbf{D} =\n",
        "\\begin{pmatrix}\n",
        "2 & 3 & 1 & 4 & 5 \\\\\n",
        "1 & 4 & 0 & 0 & 7 \\\\\n",
        "3 & 0 & 0 & 0 & 0 \\\\\n",
        "2 & 1 & 4 & 3 & 2 \\\\\n",
        "1 & 2 & 3 & 4 & 5\n",
        "\\end{pmatrix}\n",
        "$$"
      ]
    },
    {
      "cell_type": "markdown",
      "source": [
        "Given matrix:\n",
        "\n",
        "$$\n",
        "\\mathbf{D} =\n",
        "\\begin{pmatrix}\n",
        "2 & 3 & 1 & 4 & 5 \\\\\n",
        "1 & 4 & 0 & 0 & 7 \\\\\n",
        "3 & 0 & 0 & 0 & 0 \\\\\n",
        "2 & 1 & 4 & 3 & 2 \\\\\n",
        "1 & 2 & 3 & 4 & 5\n",
        "\\end{pmatrix}\n",
        "$$\n",
        "\n",
        "### 1. Determinant Calculation\n",
        "\n",
        "The determinant of the matrix can be calculated using cofactor expansion, or more efficiently, using a computational tool like SymPy.\n",
        "\n",
        "### 2. Inverse Calculation\n",
        "\n",
        "If the determinant is non-zero, the inverse of the matrix can be computed. Otherwise, the matrix is singular and does not have an inverse.\n"
      ],
      "metadata": {
        "id": "7ag9wq8XmPsZ"
      }
    },
    {
      "cell_type": "code",
      "source": [
        "from sympy import Matrix #Exercise 4\n",
        "\n",
        "# Define the matrix D\n",
        "D = Matrix([\n",
        "    [2, 3, 1, 4, 5],\n",
        "    [1, 4, 0, 0, 7],\n",
        "    [3, 0, 0, 0, 0],\n",
        "    [2, 1, 4, 3, 2],\n",
        "    [1, 2, 3, 4, 5]\n",
        "])\n",
        "\n",
        "# Calculate the determinant of D\n",
        "det_D = D.det()\n",
        "\n",
        "# Calculate the inverse of D (if it exists)\n",
        "if det_D != 0:\n",
        "    inv_D = D.inv()\n",
        "else:\n",
        "    inv_D = None\n",
        "\n",
        "# Output the results\n",
        "print(\"Determinant of D:\", det_D)\n",
        "\n",
        "if inv_D:\n",
        "    print(\"\\nInverse of D:\")\n",
        "    print(inv_D)\n",
        "else:\n",
        "    print(\"\\nMatrix D is singular and does not have an inverse.\")\n"
      ],
      "metadata": {
        "id": "S9mjoMcPmWWs",
        "outputId": "ff16653d-f7e3-418a-cb26-fb729ed72d48",
        "colab": {
          "base_uri": "https://localhost:8080/"
        }
      },
      "execution_count": 4,
      "outputs": [
        {
          "output_type": "stream",
          "name": "stdout",
          "text": [
            "Determinant of D: 231\n",
            "\n",
            "Inverse of D:\n",
            "Matrix([[0, 0, 1/3, 0, 0], [7/11, 2/11, -19/33, 8/11, -13/11], [-2/11, 1/11, -4/33, 4/11, -1/11], [3/11, -16/77, -13/231, -9/77, 5/77], [-4/11, 3/77, 65/231, -32/77, 52/77]])\n"
          ]
        }
      ]
    },
    {
      "cell_type": "markdown",
      "source": [
        "Given matrix:\n",
        "\n",
        "$$\n",
        "\\mathbf{C} =\n",
        "\\begin{pmatrix}\n",
        "2 & 3 & 1 & 4 \\\\\n",
        "1 & 0 & 0 & 6 \\\\\n",
        "3 & 2 & 1 & 5 \\\\\n",
        "2 & 1 & 4 & 0\n",
        "\\end{pmatrix}\n",
        "$$\n",
        "\n",
        "### 1. Determinant Calculation\n",
        "\n",
        "To calculate the determinant of a 4x4 matrix, we use cofactor expansion or directly compute it. The formula for the determinant of a 4x4 matrix is:\n",
        "\n",
        "$$\n",
        "\\text{det}(\\mathbf{C}) = a \\cdot \\text{det}(M_{11}) - b \\cdot \\text{det}(M_{12}) + c \\cdot \\text{det}(M_{13}) - d \\cdot \\text{det}(M_{14})\n",
        "$$\n",
        "\n",
        "Where \\( M_{ij} \\) is the 3x3 submatrix after removing the \\( i \\)-th row and \\( j \\)-th column from \\( \\mathbf{C} \\).\n",
        "\n",
        "### 2. Inverse Calculation\n",
        "\n",
        "The inverse of the matrix is calculated as:\n",
        "\n",
        "$$\n",
        "\\mathbf{C}^{-1} = \\frac{1}{\\text{det}(\\mathbf{C})} \\cdot \\text{adj}(\\mathbf{C})\n",
        "$$\n",
        "\n",
        "Where \\( \\text{adj}(\\mathbf{C}) \\) is the adjoint of matrix \\( \\mathbf{C} \\), the transpose of the cofactor matrix.\n"
      ],
      "metadata": {
        "id": "cJ0yq7d6lWKr"
      }
    },
    {
      "cell_type": "code",
      "source": [
        "from sympy import Matrix #Exercise 3\n",
        "\n",
        "# Define the matrix C\n",
        "C = Matrix([[2, 3, 1, 4], [1, 0, 0, 6], [3, 2, 1, 5], [2, 1, 4, 0]])\n",
        "\n",
        "# Calculate the determinant of C\n",
        "det_C = C.det()\n",
        "\n",
        "# Calculate the inverse of C (if it exists)\n",
        "if det_C != 0:\n",
        "    inv_C = C.inv()\n",
        "else:\n",
        "    inv_C = None\n",
        "\n",
        "# Output the results\n",
        "print(\"Determinant of C:\", det_C)\n",
        "\n",
        "if inv_C:\n",
        "    print(\"\\nInverse of C:\")\n",
        "    print(inv_C)\n",
        "else:\n",
        "    print(\"\\nMatrix C is singular and does not have an inverse.\")\n"
      ],
      "metadata": {
        "colab": {
          "base_uri": "https://localhost:8080/"
        },
        "id": "ekFxQgvVlll4",
        "outputId": "e9a394b4-c800-43f1-8e4b-47580d44f8df"
      },
      "execution_count": 3,
      "outputs": [
        {
          "output_type": "stream",
          "name": "stdout",
          "text": [
            "Determinant of C: -75\n",
            "\n",
            "Inverse of C:\n",
            "Matrix([[-14/25, -9/25, 22/25, -2/25], [8/15, -2/15, -4/15, -1/15], [11/75, 16/75, -28/75, 23/75], [7/75, 17/75, -11/75, 1/75]])\n"
          ]
        }
      ]
    },
    {
      "cell_type": "markdown",
      "source": [
        "Given matrix:\n",
        "\n",
        "$$\n",
        "\\mathbf{B} =\n",
        "\\begin{pmatrix}\n",
        "2 & 3 & 1 \\\\\n",
        "1 & 4 & 0 \\\\\n",
        "3 & 2 & 0\n",
        "\\end{pmatrix}\n",
        "$$\n",
        "\n",
        "### 1. Determinant Calculation\n",
        "\n",
        "The determinant is calculated as:\n",
        "\n",
        "$$\n",
        "\\text{det}(\\mathbf{B}) = 2 \\left( (4 \\cdot 0) - (0 \\cdot 2) \\right) - 3 \\left( (1 \\cdot 0) - (0 \\cdot 3) \\right) + 1 \\left( (1 \\cdot 2) - (4 \\cdot 3) \\right)\n",
        "$$\n",
        "\n",
        "$$\n",
        "\\text{det}(\\mathbf{B}) = 2(0) - 3(0) + 1(2 - 12)\n",
        "$$\n",
        "\n",
        "$$\n",
        "\\text{det}(\\mathbf{B}) = 0 + 0 + 1(-10)\n",
        "$$\n",
        "\n",
        "$$\n",
        "\\text{det}(\\mathbf{B}) = -10\n",
        "$$\n",
        "\n",
        "### 2. Inverse Calculation\n",
        "\n",
        "The inverse of the matrix is calculated as:\n",
        "\n",
        "$$\n",
        "\\mathbf{B}^{-1} = \\frac{1}{\\text{det}(\\mathbf{B})} \\cdot \\text{adj}(\\mathbf{B})\n",
        "$$\n",
        "\n",
        "Since \\( \\text{det}(\\mathbf{B}) = -10 \\), we have:\n",
        "\n",
        "$$\n",
        "\\mathbf{B}^{-1} = \\frac{1}{-10} \\cdot \\text{adj}(\\mathbf{B})\n",
        "$$\n"
      ],
      "metadata": {
        "id": "iuSQzccTkoDF"
      }
    },
    {
      "cell_type": "code",
      "source": [
        "from sympy import Matrix #Exercise 2\n",
        "\n",
        "# Define the matrix B\n",
        "B = Matrix([[2, 3, 1], [1, 4, 0], [3, 2, 0]])\n",
        "\n",
        "# Calculate the determinant of B\n",
        "det_B = B.det()\n",
        "\n",
        "# Calculate the inverse of B\n",
        "inv_B = B.inv()\n",
        "\n",
        "# Output the results\n",
        "print(\"Determinant of B:\", det_B)\n",
        "print(\"\\nInverse of B:\")\n",
        "print(inv_B)\n"
      ],
      "metadata": {
        "colab": {
          "base_uri": "https://localhost:8080/"
        },
        "id": "-2wCzEUskuvb",
        "outputId": "0558f1ba-32c3-4282-867f-289b5d9ff138"
      },
      "execution_count": 2,
      "outputs": [
        {
          "output_type": "stream",
          "name": "stdout",
          "text": [
            "Determinant of B: -10\n",
            "\n",
            "Inverse of B:\n",
            "Matrix([[0, -1/5, 2/5], [0, 3/10, -1/10], [1, -1/2, -1/2]])\n"
          ]
        }
      ]
    },
    {
      "cell_type": "markdown",
      "source": [
        "Given matrix:\n",
        "\n",
        "$$\n",
        "\\mathbf{A} =\n",
        "\\begin{pmatrix}\n",
        "2 & 3 & 1 \\\\\n",
        "1 & 4 & 0 \\\\\n",
        "3 & 2 & 1\n",
        "\\end{pmatrix}\n",
        "$$\n",
        "\n",
        "### 1. Determinant Calculation\n",
        "\n",
        "The determinant is calculated as:\n",
        "\n",
        "$$\n",
        "\\text{det}(\\mathbf{A}) = 2 \\left( (4 \\cdot 1) - (0 \\cdot 2) \\right) - 3 \\left( (1 \\cdot 1) - (0 \\cdot 3) \\right) + 1 \\left( (1 \\cdot 2) - (4 \\cdot 3) \\right)\n",
        "$$\n",
        "\n",
        "$$\n",
        "\\text{det}(\\mathbf{A}) = 2(4) - 3(1) + 1(2 - 12)\n",
        "$$\n",
        "\n",
        "$$\n",
        "\\text{det}(\\mathbf{A}) = 8 - 3 - 10 = -5\n",
        "$$\n",
        "\n",
        "### 2. Inverse Calculation\n",
        "\n",
        "The inverse of the matrix is calculated as:\n",
        "\n",
        "$$\n",
        "\\mathbf{A}^{-1} = \\frac{1}{\\text{det}(\\mathbf{A})} \\cdot \\text{adj}(\\mathbf{A})\n",
        "$$\n",
        "\n",
        "Since \\( \\text{det}(\\mathbf{A}) = -5 \\), we have:\n",
        "\n",
        "$$\n",
        "\\mathbf{A}^{-1} = \\frac{1}{-5} \\cdot \\text{adj}(\\mathbf{A})\n",
        "$$\n"
      ],
      "metadata": {
        "id": "emGS8q3Uj-gV"
      }
    },
    {
      "cell_type": "code",
      "source": [
        "from sympy import Matrix #Exercise 1\n",
        "\n",
        "# Define the matrix A\n",
        "A = Matrix([[2, 3, 1], [1, 4, 0], [3, 2, 1]])\n",
        "\n",
        "# Calculate the determinant of A\n",
        "det_A = A.det()\n",
        "\n",
        "# Calculate the inverse of A\n",
        "inv_A = A.inv()\n",
        "\n",
        "# Output the results\n",
        "print(\"Determinant of A:\", det_A)\n",
        "print(\"\\nInverse of A:\")\n",
        "print(inv_A)\n"
      ],
      "metadata": {
        "colab": {
          "base_uri": "https://localhost:8080/"
        },
        "id": "sEuvO2vHkEOi",
        "outputId": "979c14c1-f744-44fd-c24c-e940b9dde24d"
      },
      "execution_count": 1,
      "outputs": [
        {
          "output_type": "stream",
          "name": "stdout",
          "text": [
            "Determinant of A: -5\n",
            "\n",
            "Inverse of A:\n",
            "Matrix([[-4/5, 1/5, 4/5], [1/5, 1/5, -1/5], [2, -1, -1]])\n"
          ]
        }
      ]
    }
  ],
  "metadata": {
    "kernelspec": {
      "display_name": "Python 3",
      "language": "python",
      "name": "python3"
    },
    "language_info": {
      "codemirror_mode": {
        "name": "ipython",
        "version": 3
      },
      "file_extension": ".py",
      "mimetype": "text/x-python",
      "name": "python",
      "nbconvert_exporter": "python",
      "pygments_lexer": "ipython3",
      "version": "3.11.9"
    },
    "colab": {
      "provenance": []
    }
  },
  "nbformat": 4,
  "nbformat_minor": 0
}