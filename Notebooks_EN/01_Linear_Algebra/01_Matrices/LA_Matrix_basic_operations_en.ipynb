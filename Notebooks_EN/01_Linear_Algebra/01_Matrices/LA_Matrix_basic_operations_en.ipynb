{
  "cells": [
    {
      "cell_type": "markdown",
      "metadata": {
        "id": "RP8RSaAw_uMP"
      },
      "source": [
        "# Basic Matrix Operations\n",
        "\n",
        "### Matrix Addition\n",
        "\n",
        "Let $A=[a_{ij}]$ and $B=[b_{ij}]$ be two matrices of dimensions $m \\times n$. Then the sum of matrices $A$ and $B$ is the matrix $C=[c_{ij}]$ of dimensions $m \\times n$, where $c_{ij}=a_{ij}+b_{ij}$.\n",
        "\n",
        "### Matrix Scalar Multiplication\n",
        "\n",
        "Let $A=[a_{ij}]$ be a matrix of dimensions $m \\times n$, and let $k$ be a scalar. Then the product of matrix $A$ and scalar $k$ is the matrix $B=[b_{ij}]$ of dimensions $m \\times n$, where $b_{ij}=k \\cdot a_{ij}$.\n",
        "\n",
        "### Matrix Multiplication\n",
        "\n",
        "Let $A=[a_{ij}]$ be a matrix of dimensions $m \\times n$, and $B=[b_{ij}]$ be a matrix of dimensions $n \\times p$. Then the product of matrices $A$ and $B$ is the matrix $C=[c_{ij}]$ of dimensions $m \\times p$, where $c_{ij}=\\sum_{k=1}^{n} a_{ik} \\cdot b_{kj}$.\n",
        "\n",
        "\n",
        "### Example 1\n",
        "\n",
        "Let $A=\\begin{bmatrix} 1 & 2 \\\\ 3 & 4 \\end{bmatrix}$ and $B=\\begin{bmatrix} 5 & 6 \\\\ 7 & 8 \\end{bmatrix}$.\n",
        "Then the sum of matrices $A$ and $B$ is\n",
        "\n",
        "$$\n",
        "C=\n",
        "A+B=\\begin{bmatrix} 1+5 & 2+6 \\\\ 3+7 & 4+8 \\end{bmatrix}=\\begin{bmatrix} 6 & 8 \\\\ 10 & 12 \\end{bmatrix}.\n",
        "$$\n",
        "\n",
        "### Example 2\n",
        "\n",
        "Let $A=\\begin{bmatrix} 1 & 2 \\\\ 3 & 4 \\end{bmatrix}$ and $k=2$.\n",
        "\n",
        "Then the product of matrix $A$ and scalar $k$ is\n",
        "\n",
        "$$\n",
        "B=\n",
        "k \\cdot A=2 \\cdot \\begin{bmatrix} 1 & 2 \\\\ 3 & 4 \\end{bmatrix}=\\begin{bmatrix} 2*1 & 2*2 \\\\ 2*3 & 2*4 \\end{bmatrix}=\\begin{bmatrix} 2 & 4 \\\\ 6 & 8 \\end{bmatrix}.\n",
        "$$\n",
        "\n",
        "### Example 3\n",
        "\n",
        "Let\n",
        "$A=\\begin{bmatrix} 1 & 2 \\\\ 3 & 4 \\end{bmatrix}$\n",
        "and\n",
        "$B=\\begin{bmatrix} 5 & 6 \\\\ 7 & 8 \\end{bmatrix}$.\n",
        "\n",
        "Then the product of matrices $A$ and $B$ is\n",
        "\n",
        "$$\n",
        "C=\n",
        "A \\cdot B=\\begin{bmatrix} 1*5+2*7 & 1*6+2*8 \\\\ 3*5+4*7 & 3*6+4*8 \\end{bmatrix}=\\begin{bmatrix} 19 & 22 \\\\ 43 & 50 \\end{bmatrix}.\n",
        "$$"
      ]
    },
    {
      "cell_type": "code",
      "execution_count": null,
      "metadata": {
        "id": "MBUSSIIR_uMQ"
      },
      "outputs": [],
      "source": [
        "# Example 1: Matrix addition in sympy\n",
        "import sympy as sp\n",
        "\n",
        "A=sp.Matrix([[1,2],[3,4]])\n",
        "B=sp.Matrix([[5,6],[7,8]])\n",
        "A # display matrix A"
      ]
    },
    {
      "cell_type": "code",
      "execution_count": null,
      "metadata": {
        "id": "cyud-AZ2_uMQ"
      },
      "outputs": [],
      "source": [
        "B # display matrix B"
      ]
    },
    {
      "cell_type": "code",
      "execution_count": null,
      "metadata": {
        "id": "L9Obdpg__uMQ"
      },
      "outputs": [],
      "source": [
        "sp.Matrix([[6,8],[10,12]])==A+B # verify matrix addition"
      ]
    },
    {
      "cell_type": "code",
      "execution_count": null,
      "metadata": {
        "id": "xyIqjVQS_uMR"
      },
      "outputs": [],
      "source": [
        "# Example 2: Scalar multiplication\n",
        "A=sp.Matrix([[1,2],[3,4]]) # define matrix A\n",
        "\n",
        "sp.Matrix([[2,4],[6,8]])==2*A # verify scalar multiplication"
      ]
    },
    {
      "cell_type": "code",
      "execution_count": null,
      "metadata": {
        "id": "gBvjH8U1_uMR"
      },
      "outputs": [],
      "source": [
        "# Example 3: Multiplication of two matrices\n",
        "\n",
        "A=sp.Matrix([[1,2],[3,4]]) # define matrix A\n",
        "B=sp.Matrix([[5,6],[7,8]]) # define matrix B\n",
        "\n",
        "sp.Matrix([[19,22],[43,50]])==A*B # verify matrix multiplication"
      ]
    },
    {
      "cell_type": "markdown",
      "metadata": {
        "id": "_6Q3R4Xx_uMR"
      },
      "source": [
        "### Necessary Condition for Matrix Multiplication\n",
        "\n",
        "Remember that matrices can have different numbers of rows and columns.\n",
        "\n",
        "To multiply two matrices $A_{m \\times n}$ and $B_{n \\times k}$, where $A$ has dimensions $m \\times n$ and $B$ has dimensions $n \\times k$, the number of columns of matrix $A$ must equal the number of rows of matrix $B$. Otherwise, matrix multiplication is not possible.\n",
        "\n",
        "$$\n",
        "A_{m \\times n} \\cdot B_{n \\times k} = C_{m \\times k}\n",
        "$$\n",
        "\n",
        "For example, if $A_{3 \\times 3}$ and $B_{3 \\times 3}$, then the resulting matrix $C_{3 \\times 3}$.\n",
        "\n",
        "<img src=\"https://www.mscroggs.co.uk/img/full/multiply_matrices.gif\" alt=\"Matrix Multiplication GIF\" width=\"400\">\n",
        "\n",
        "### Matrix Multiplication is Not Commutative\n",
        "\n",
        "Matrix multiplication is not commutative, i.e., in general $A \\cdot B \\neq B \\cdot A$."
      ]
    },
    {
      "cell_type": "code",
      "execution_count": null,
      "metadata": {
        "id": "1n7N3iEZ_uMR"
      },
      "outputs": [],
      "source": [
        "# Example of multiplying rectangular matrices\n",
        "import sympy as sp\n",
        "A=sp.Matrix([[1,2],[3,4],[5,6]]) # define matrix A_{3 x 2}\n",
        "B=sp.Matrix([[1,2,3],[4,5,6]]) # define matrix B_{2 x 3}\n",
        "C=sp.Matrix([[9,12,15],[19,26,33],[29,40,51]]) # define matrix C_{3 x 3}\n",
        "\n",
        "A*B # multiply matrices A and B to get a 3x3 matrix"
      ]
    },
    {
      "cell_type": "code",
      "execution_count": null,
      "metadata": {
        "id": "HIGdhwuC_uMR"
      },
      "outputs": [],
      "source": [
        "B*A # multiply matrices B and A to get a 2x2 matrix"
      ]
    },
    {
      "cell_type": "code",
      "execution_count": null,
      "metadata": {
        "id": "qLKCADJU_uMR"
      },
      "outputs": [],
      "source": [
        "B*C # multiply matrices B and C to get a 2x3 matrix"
      ]
    },
    {
      "cell_type": "markdown",
      "metadata": {
        "id": "SpHTerFv_uMR"
      },
      "source": [
        "---\n",
        "## Exercises for Students\n",
        "\n",
        "1. Calculate the sum of matrices $A=\\begin{bmatrix} 1 & 2 \\\\ 3 & 4 \\end{bmatrix}$ and $B=\\begin{bmatrix} 5 & 6 \\\\ 7 & 8 \\end{bmatrix}$.\n",
        "\n",
        "2. Calculate the product of matrix $A=\\begin{bmatrix} 4 & 2 \\\\ 12 & 4 \\end{bmatrix}$ and scalar $k=\\frac{1}{4}$.\n",
        "\n",
        "3. Calculate the products $A\\cdot B$ and $B \\cdot A$ for matrices $A=\\begin{bmatrix} 3 & 2 \\\\ 2 & 4 \\end{bmatrix}$ and $B=\\begin{bmatrix} 4 & 1 \\\\ 6 & 4 \\end{bmatrix}$."
      ]
    },
    {
      "cell_type": "markdown",
      "source": [
        "We are tasked with computing the products \\( A \\cdot B \\) and \\( B \\cdot A \\) for the matrices:\n",
        "\n",
        "\\[\n",
        "A = \\begin{bmatrix} 3 & 2 \\\\ 2 & 4 \\end{bmatrix}, \\quad B = \\begin{bmatrix} 4 & 1 \\\\ 6 & 4 \\end{bmatrix}.\n",
        "\\]\n",
        "\n",
        "### 1. Compute \\( A \\cdot B \\)\n",
        "The product \\( A \\cdot B \\) is calculated as:\n",
        "\n",
        "$$\n",
        "A \\cdot B = \\begin{bmatrix} 3 & 2 \\\\ 2 & 4 \\end{bmatrix} \\cdot \\begin{bmatrix} 4 & 1 \\\\ 6 & 4 \\end{bmatrix}.\n",
        "$$\n",
        "\n",
        "Performing the matrix multiplication:\n",
        "\n",
        "$$\n",
        "A \\cdot B = \\begin{bmatrix}\n",
        "(3 \\cdot 4 + 2 \\cdot 6) & (3 \\cdot 1 + 2 \\cdot 4) \\\\\n",
        "(2 \\cdot 4 + 4 \\cdot 6) & (2 \\cdot 1 + 4 \\cdot 4)\n",
        "\\end{bmatrix}\n",
        "= \\begin{bmatrix}\n",
        "12 + 12 & 3 + 8 \\\\\n",
        "8 + 24 & 2 + 16\n",
        "\\end{bmatrix}\n",
        "= \\begin{bmatrix}\n",
        "24 & 11 \\\\\n",
        "32 & 18\n",
        "\\end{bmatrix}.\n",
        "$$\n",
        "\n",
        "Thus,\n",
        "\n",
        "$$\n",
        "A \\cdot B = \\begin{bmatrix} 24 & 11 \\\\ 32 & 18 \\end{bmatrix}.\n",
        "$$\n",
        "\n",
        "### 2. Compute \\( B \\cdot A \\)\n",
        "The product \\( B \\cdot A \\) is calculated as:\n",
        "\n",
        "$$\n",
        "B \\cdot A = \\begin{bmatrix} 4 & 1 \\\\ 6 & 4 \\end{bmatrix} \\cdot \\begin{bmatrix} 3 & 2 \\\\ 2 & 4 \\end{bmatrix}.\n",
        "$$\n",
        "\n",
        "Performing the matrix multiplication:\n",
        "\n",
        "$$\n",
        "B \\cdot A = \\begin{bmatrix}\n",
        "(4 \\cdot 3 + 1 \\cdot 2) & (4 \\cdot 2 + 1 \\cdot 4) \\\\\n",
        "(6 \\cdot 3 + 4 \\cdot 2) & (6 \\cdot 2 + 4 \\cdot 4)\n",
        "\\end{bmatrix}\n",
        "= \\begin{bmatrix}\n",
        "12 + 2 & 8 + 4 \\\\\n",
        "18 + 8 & 12 + 16\n",
        "\\end{bmatrix}\n",
        "= \\begin{bmatrix}\n",
        "14 & 12 \\\\\n",
        "26 & 28\n",
        "\\end{bmatrix}.\n",
        "$$\n",
        "\n",
        "Thus,\n",
        "\n",
        "$$\n",
        "B \\cdot A = \\begin{bmatrix} 14 & 12 \\\\ 26 & 28 \\end{bmatrix}.\n",
        "$$\n",
        "\n",
        "### Final Answer\n",
        "$$\n",
        "A \\cdot B = \\begin{bmatrix} 24 & 11 \\\\ 32 & 18 \\end{bmatrix}, \\quad B \\cdot A = \\begin{bmatrix} 14 & 12 \\\\ 26 & 28 \\end{bmatrix}.\n",
        "$$\n"
      ],
      "metadata": {
        "id": "BKheFdq2iiSO"
      }
    },
    {
      "cell_type": "code",
      "source": [
        "from sympy import Matrix\n",
        "\n",
        "# Define matrices A and B\n",
        "A = Matrix([[3, 2], [2, 4]])\n",
        "B = Matrix([[4, 1], [6, 4]])\n",
        "\n",
        "# Compute the products A * B and B * A\n",
        "product_A_B = A * B\n",
        "product_B_A = B * A\n",
        "\n",
        "# Output the results\n",
        "print(\"A * B =\")\n",
        "print(product_A_B)\n",
        "\n",
        "print(\"\\nB * A =\")\n",
        "print(product_B_A)\n"
      ],
      "metadata": {
        "id": "j23sFaMkiv5d",
        "outputId": "72c75867-44c7-4126-ac56-2bef4a94df71",
        "colab": {
          "base_uri": "https://localhost:8080/"
        }
      },
      "execution_count": 4,
      "outputs": [
        {
          "output_type": "stream",
          "name": "stdout",
          "text": [
            "A * B =\n",
            "Matrix([[24, 11], [32, 18]])\n",
            "\n",
            "B * A =\n",
            "Matrix([[14, 12], [26, 28]])\n"
          ]
        }
      ]
    },
    {
      "cell_type": "markdown",
      "source": [
        "Given the matrix \\( A = \\begin{bmatrix} 4 & 2 \\\\ 12 & 4 \\end{bmatrix} \\) and scalar \\( k = \\frac{1}{4} \\), the product \\( kA \\) is computed as:\n",
        "\n",
        "$$\n",
        "kA = \\frac{1}{4} \\begin{bmatrix} 4 & 2 \\\\ 12 & 4 \\end{bmatrix}\n",
        "= \\begin{bmatrix} \\frac{1}{4} \\cdot 4 & \\frac{1}{4} \\cdot 2 \\\\ \\frac{1}{4} \\cdot 12 & \\frac{1}{4} \\cdot 4 \\end{bmatrix}\n",
        "= \\begin{bmatrix} 1 & \\frac{1}{2} \\\\ 3 & 1 \\end{bmatrix}.\n",
        "$$\n",
        "\n",
        "Thus, the resulting matrix is:\n",
        "\n",
        "$$\n",
        "\\begin{bmatrix} 1 & \\frac{1}{2} \\\\ 3 & 1 \\end{bmatrix}\n",
        "$$\n"
      ],
      "metadata": {
        "id": "kG4Im2NohJZi"
      }
    },
    {
      "cell_type": "code",
      "source": [
        "from sympy import Matrix, Rational\n",
        "\n",
        "# Define the matrix A and scalar k\n",
        "A = Matrix([[4, 2], [12, 4]])\n",
        "k = Rational(1, 4)\n",
        "\n",
        "# Compute the product k * A\n",
        "result = k * A\n",
        "\n",
        "# Output the result\n",
        "print(result)\n"
      ],
      "metadata": {
        "colab": {
          "base_uri": "https://localhost:8080/"
        },
        "id": "dmZph5qqh_wj",
        "outputId": "37753bf1-c8ae-422f-e471-fd9d91cfd287"
      },
      "execution_count": 3,
      "outputs": [
        {
          "output_type": "stream",
          "name": "stdout",
          "text": [
            "Matrix([[1, 1/2], [3, 1]])\n"
          ]
        }
      ]
    },
    {
      "cell_type": "code",
      "source": [
        "import sympy as sp #Exercise 1\n",
        "\n",
        "\n",
        "# Define the matrices A and B\n",
        "A = sp.Matrix([[1, 2], [3, 4]])\n",
        "B = sp.Matrix([[5, 6], [7, 8]])\n",
        "\n",
        "# Calculate the sum of A and B\n",
        "C = A + B\n",
        "\n",
        "# Display the result\n",
        "print(C)\n"
      ],
      "metadata": {
        "id": "9DFW1fquBa3S",
        "outputId": "afc09804-90f9-4693-f09e-f367ee7c91fa",
        "colab": {
          "base_uri": "https://localhost:8080/"
        }
      },
      "execution_count": null,
      "outputs": [
        {
          "output_type": "stream",
          "name": "stdout",
          "text": [
            "Matrix([[6, 8], [10, 12]])\n"
          ]
        }
      ]
    },
    {
      "cell_type": "markdown",
      "source": [
        "To calculate the sum of two matrices $A$ and $B$, we add their corresponding elements.\n",
        "\n",
        "Given the matrices:\n",
        "\n",
        "$$\n",
        "A = \\begin{bmatrix} 1 & 2 \\\\ 3 & 4 \\end{bmatrix}, \\quad B = \\begin{bmatrix} 5 & 6 \\\\ 7 & 8 \\end{bmatrix}\n",
        "$$\n",
        "\n",
        "We calculate the sum $ A + B $ by adding each corresponding element:\n",
        "\n",
        "$$\n",
        "A + B = \\begin{bmatrix} 1 + 5 & 2 + 6 \\\\ 3 + 7 & 4 + 8 \\end{bmatrix} = \\begin{bmatrix} 6 & 8 \\\\ 10 & 12 \\end{bmatrix}\n",
        "$$\n",
        "\n",
        "Thus, the sum of the matrices is:\n",
        "\n",
        "$$\n",
        "A + B = \\begin{bmatrix} 6 & 8 \\\\ 10 & 12 \\end{bmatrix}\n",
        "$$\n"
      ],
      "metadata": {
        "id": "QCiv6lK8BUxb"
      }
    }
  ],
  "metadata": {
    "kernelspec": {
      "display_name": "Python 3",
      "language": "python",
      "name": "python3"
    },
    "language_info": {
      "name": "python",
      "version": "3.11.9"
    },
    "colab": {
      "provenance": []
    }
  },
  "nbformat": 4,
  "nbformat_minor": 0
}