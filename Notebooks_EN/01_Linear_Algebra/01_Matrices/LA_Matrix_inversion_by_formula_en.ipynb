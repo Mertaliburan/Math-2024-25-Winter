{
  "cells": [
    {
      "cell_type": "markdown",
      "metadata": {
        "id": "7bYKrd78o02M"
      },
      "source": [
        "# Matrix Inversion\n",
        "\n",
        "The inverse of a matrix $A$ is a matrix $A^{-1}$ such that $A \\cdot A^{-1} = A^{-1} \\cdot A = I$, where $I$ is the identity matrix.\n",
        "\n",
        "**Example 1:**"
      ]
    },
    {
      "cell_type": "code",
      "execution_count": null,
      "metadata": {
        "id": "v090So2Uo02N",
        "outputId": "d3c9f548-a803-4b6c-9bb4-4fadd28db2e3"
      },
      "outputs": [
        {
          "data": {
            "text/latex": [
              "$\\displaystyle \\left[\\begin{matrix}2 & 1 & 2\\\\5 & 3 & 1\\\\1 & 1 & 5\\end{matrix}\\right]$"
            ],
            "text/plain": [
              "Matrix([\n",
              "[2, 1, 2],\n",
              "[5, 3, 1],\n",
              "[1, 1, 5]])"
            ]
          },
          "execution_count": 1,
          "metadata": {},
          "output_type": "execute_result"
        }
      ],
      "source": [
        "import sympy as sp # import sympy library\n",
        "k1 = sp.Matrix([[2, 1, 2], [5, 3, 1], [1, 1, 5]]) # create matrix k1\n",
        "k1"
      ]
    },
    {
      "cell_type": "code",
      "execution_count": null,
      "metadata": {
        "id": "KD554X4Uo02O",
        "outputId": "0120015f-2895-4d68-d29c-ccb1a9e1cb5a"
      },
      "outputs": [
        {
          "data": {
            "text/latex": [
              "$\\displaystyle \\left[\\begin{matrix}\\frac{7}{4} & - \\frac{3}{8} & - \\frac{5}{8}\\\\-3 & 1 & 1\\\\\\frac{1}{4} & - \\frac{1}{8} & \\frac{1}{8}\\end{matrix}\\right]$"
            ],
            "text/plain": [
              "Matrix([\n",
              "[7/4, -3/8, -5/8],\n",
              "[ -3,    1,    1],\n",
              "[1/4, -1/8,  1/8]])"
            ]
          },
          "execution_count": 2,
          "metadata": {},
          "output_type": "execute_result"
        }
      ],
      "source": [
        "inverse_k1 = k1.inv() # calculate the inverse of matrix k1\n",
        "inverse_k1"
      ]
    },
    {
      "cell_type": "code",
      "execution_count": null,
      "metadata": {
        "id": "JtdcdlFao02O",
        "outputId": "3c5fa391-7e72-40ba-e26a-22585bbd8e03"
      },
      "outputs": [
        {
          "data": {
            "text/latex": [
              "$\\displaystyle \\left[\\begin{matrix}1 & 0 & 0\\\\0 & 1 & 0\\\\0 & 0 & 1\\end{matrix}\\right]$"
            ],
            "text/plain": [
              "Matrix([\n",
              "[1, 0, 0],\n",
              "[0, 1, 0],\n",
              "[0, 0, 1]])"
            ]
          },
          "execution_count": 3,
          "metadata": {},
          "output_type": "execute_result"
        }
      ],
      "source": [
        "k1 * inverse_k1 # verify if multiplying the matrix by its inverse yields the identity matrix"
      ]
    },
    {
      "cell_type": "markdown",
      "metadata": {
        "id": "i7MfooOpo02O"
      },
      "source": [
        "**Example 2:**"
      ]
    },
    {
      "cell_type": "code",
      "execution_count": null,
      "metadata": {
        "id": "duQmAvMfo02O",
        "outputId": "88083b38-e718-41dc-fe02-7c0f7061694d"
      },
      "outputs": [
        {
          "data": {
            "text/latex": [
              "$\\displaystyle \\left[\\begin{matrix}\\frac{e i - f h}{a e i - a f h - b d i + b f g + c d h - c e g} & \\frac{- b i + c h}{a e i - a f h - b d i + b f g + c d h - c e g} & \\frac{b f - c e}{a e i - a f h - b d i + b f g + c d h - c e g}\\\\\\frac{- d i + f g}{a e i - a f h - b d i + b f g + c d h - c e g} & \\frac{a i - c g}{a e i - a f h - b d i + b f g + c d h - c e g} & \\frac{- a f + c d}{a e i - a f h - b d i + b f g + c d h - c e g}\\\\\\frac{d h - e g}{a e i - a f h - b d i + b f g + c d h - c e g} & \\frac{- a h + b g}{a e i - a f h - b d i + b f g + c d h - c e g} & \\frac{a e - b d}{a e i - a f h - b d i + b f g + c d h - c e g}\\end{matrix}\\right]$"
            ],
            "text/plain": [
              "Matrix([\n",
              "[ (e*i - f*h)/(a*e*i - a*f*h - b*d*i + b*f*g + c*d*h - c*e*g), (-b*i + c*h)/(a*e*i - a*f*h - b*d*i + b*f*g + c*d*h - c*e*g),  (b*f - c*e)/(a*e*i - a*f*h - b*d*i + b*f*g + c*d*h - c*e*g)],\n",
              "[(-d*i + f*g)/(a*e*i - a*f*h - b*d*i + b*f*g + c*d*h - c*e*g),  (a*i - c*g)/(a*e*i - a*f*h - b*d*i + b*f*g + c*d*h - c*e*g), (-a*f + c*d)/(a*e*i - a*f*h - b*d*i + b*f*g + c*d*h - c*e*g)],\n",
              "[ (d*h - e*g)/(a*e*i - a*f*h - b*d*i + b*f*g + c*d*h - c*e*g), (-a*h + b*g)/(a*e*i - a*f*h - b*d*i + b*f*g + c*d*h - c*e*g),  (a*e - b*d)/(a*e*i - a*f*h - b*d*i + b*f*g + c*d*h - c*e*g)]])"
            ]
          },
          "execution_count": 4,
          "metadata": {},
          "output_type": "execute_result"
        }
      ],
      "source": [
        "import sympy as sp\n",
        "a, b, c, d, e, f, g, h, i = sp.symbols('a b c d e f g h i') # define variables a-i\n",
        "k = sp.Matrix([[a, b, c], [d, e, f], [g, h, i]]) # create matrix k\n",
        "inverse_k = k.inv()\n",
        "inverse_k"
      ]
    },
    {
      "cell_type": "markdown",
      "metadata": {
        "id": "veyhV5wPo02O"
      },
      "source": [
        "This complex form results from the formula that allows for the calculation of the elements of the inverse matrix. Before we proceed, let's define a few concepts.\n",
        "\n",
        "**Matrix Transposition** is an operation that swaps rows with columns. The transpose of a matrix $A$ is a matrix $A^T$ such that $A^T_{ij} = A_{ji}$."
      ]
    },
    {
      "cell_type": "code",
      "execution_count": null,
      "metadata": {
        "id": "Ma7SWx1bo02O",
        "outputId": "07c52944-a8af-46b1-b302-da6cabeb516a"
      },
      "outputs": [
        {
          "data": {
            "text/latex": [
              "$\\displaystyle \\left[\\begin{matrix}a & b & c\\\\d & e & f\\\\g & h & i\\end{matrix}\\right]$"
            ],
            "text/plain": [
              "Matrix([\n",
              "[a, b, c],\n",
              "[d, e, f],\n",
              "[g, h, i]])"
            ]
          },
          "execution_count": 5,
          "metadata": {},
          "output_type": "execute_result"
        }
      ],
      "source": [
        "k"
      ]
    },
    {
      "cell_type": "code",
      "execution_count": null,
      "metadata": {
        "id": "5nPahGDco02P",
        "outputId": "4a34c59b-a546-4909-a091-b45458b2a738"
      },
      "outputs": [
        {
          "data": {
            "text/latex": [
              "$\\displaystyle \\left[\\begin{matrix}a & d & g\\\\b & e & h\\\\c & f & i\\end{matrix}\\right]$"
            ],
            "text/plain": [
              "Matrix([\n",
              "[a, d, g],\n",
              "[b, e, h],\n",
              "[c, f, i]])"
            ]
          },
          "execution_count": 6,
          "metadata": {},
          "output_type": "execute_result"
        }
      ],
      "source": [
        "k.transpose() # transpose matrix k"
      ]
    },
    {
      "cell_type": "markdown",
      "metadata": {
        "id": "slxRyt0eo02P"
      },
      "source": [
        "**Minor** of a matrix $A$ is the determinant of the matrix obtained by removing the $i$-th row and $j$-th column. We denote it by $M_{ij}$."
      ]
    },
    {
      "cell_type": "code",
      "execution_count": null,
      "metadata": {
        "id": "CgrwVuebo02P",
        "outputId": "dc53ffc1-7df3-4b2b-9b08-a4aff6371634"
      },
      "outputs": [
        {
          "data": {
            "text/latex": [
              "$\\displaystyle \\left[\\begin{matrix}1 & 2 & 3\\\\4 & 5 & 6\\\\7 & 8 & 9\\end{matrix}\\right]$"
            ],
            "text/plain": [
              "Matrix([\n",
              "[1, 2, 3],\n",
              "[4, 5, 6],\n",
              "[7, 8, 9]])"
            ]
          },
          "execution_count": 7,
          "metadata": {},
          "output_type": "execute_result"
        }
      ],
      "source": [
        "# Minor of matrix $A$ is the determinant of the matrix obtained by removing the $i$-th row and $j$-th column. We denote it by $M_{ij}$.\n",
        "k2 = sp.Matrix([[1, 2, 3], [4, 5, 6], [7, 8, 9]])\n",
        "k2"
      ]
    },
    {
      "cell_type": "code",
      "execution_count": null,
      "metadata": {
        "id": "-pRyb-Luo02P",
        "outputId": "bd282ab2-7c12-4ac3-dd64-b234d8ef9b88"
      },
      "outputs": [
        {
          "data": {
            "text/latex": [
              "$\\displaystyle \\left[\\begin{matrix}4 & 6\\\\7 & 9\\end{matrix}\\right]$"
            ],
            "text/plain": [
              "Matrix([\n",
              "[4, 6],\n",
              "[7, 9]])"
            ]
          },
          "execution_count": 8,
          "metadata": {},
          "output_type": "execute_result"
        }
      ],
      "source": [
        "M01 = k2.minor_submatrix(0, 1) # calculate minor M01\n",
        "M01"
      ]
    },
    {
      "cell_type": "code",
      "execution_count": null,
      "metadata": {
        "id": "7kxMK5ybo02P",
        "outputId": "dbad1908-ece2-4029-859f-30d6f2623e50"
      },
      "outputs": [
        {
          "data": {
            "text/latex": [
              "$\\displaystyle \\left[\\begin{matrix}1 & 2\\\\4 & 5\\end{matrix}\\right]$"
            ],
            "text/plain": [
              "Matrix([\n",
              "[1, 2],\n",
              "[4, 5]])"
            ]
          },
          "execution_count": 9,
          "metadata": {},
          "output_type": "execute_result"
        }
      ],
      "source": [
        "M22 = k2.minor_submatrix(2, 2) # calculate minor M22\n",
        "M22"
      ]
    },
    {
      "cell_type": "markdown",
      "metadata": {
        "id": "nL6j-jlIo02P"
      },
      "source": [
        "**Cofactor** of element $a_{ij} = (-1)^{i+j} \\, M_{ij}$, which is the minor multiplied by $(-1)^{i+j}$.\n",
        "\n",
        "**Rank of a Matrix** is the largest degree of a non-zero minor of the matrix. The rank of a matrix is equal to the number of linearly independent rows or columns in the matrix."
      ]
    },
    {
      "cell_type": "code",
      "execution_count": null,
      "metadata": {
        "id": "UpqGSQm9o02P",
        "outputId": "d8defc8a-5abf-4dc1-e2c0-1bb67b7256dc"
      },
      "outputs": [
        {
          "data": {
            "text/plain": [
              "2"
            ]
          },
          "execution_count": 10,
          "metadata": {},
          "output_type": "execute_result"
        }
      ],
      "source": [
        "k2.rank() # calculate the rank of matrix k2"
      ]
    },
    {
      "cell_type": "markdown",
      "metadata": {
        "id": "UGQSXpZAo02Q"
      },
      "source": [
        "### Inverse of a 3x3 Matrix\n",
        "\n",
        "Using the transpose of the cofactor matrix (minors):\n",
        "\n",
        "$$K^{-1} =\n",
        "\\begin{bmatrix}\n",
        "a & b & c \\\\\n",
        "d & e & f \\\\\n",
        "g & h & i\n",
        "\\end{bmatrix}^{-1}\n",
        "= \\frac{1}{\\det(\\mathbf{K})}\n",
        "\\begin{bmatrix}\n",
        "A & B & C \\\\\n",
        "D & E & F \\\\\n",
        "G & H & I\n",
        "\\end{bmatrix}^T\n",
        "= \\frac{1}{\\det(\\mathbf{A})}\n",
        "\\begin{bmatrix}\n",
        "A & D & G \\\\\n",
        "B & E & H \\\\\n",
        "C & F & I\n",
        "\\end{bmatrix}\n",
        "$$\n",
        "\n",
        "If the determinant is non-zero, the matrix is invertible, and the elements of the intermediate matrix on the right-hand side of the above formula are determined by:\n",
        "\n",
        "$$\n",
        "\\begin{aligned}\n",
        "A &= \\text{det} \\left( \\begin{bmatrix} e & f \\\\ h & i \\end{bmatrix} \\right) & B &= -\\text{det} \\left( \\begin{bmatrix} d & f \\\\ g & i \\end{bmatrix} \\right) & C &= \\text{det} \\left( \\begin{bmatrix} d & e \\\\ g & h \\end{bmatrix} \\right) \\\\\n",
        "D &= -\\text{det} \\left( \\begin{bmatrix} b & c \\\\ h & i \\end{bmatrix} \\right) & E &= \\text{det} \\left( \\begin{bmatrix} a & c \\\\ g & i \\end{bmatrix} \\right) & F &= -\\text{det} \\left( \\begin{bmatrix} a & b \\\\ g & h \\end{bmatrix} \\right) \\\\\n",
        "G &= \\text{det} \\left( \\begin{bmatrix} b & c \\\\ e & f \\end{bmatrix} \\right) & H &= -\\text{det} \\left( \\begin{bmatrix} a & c \\\\ d & f \\end{bmatrix} \\right) & I &= \\text{det} \\left( \\begin{bmatrix} a & b \\\\ d & e \\end{bmatrix} \\right)\n",
        "\\end{aligned}\n",
        "$$\n",
        "\n",
        "These are the determinants of 2x2 matrices formed by removing the appropriate rows and columns and taking into account the sign $(-1)^{i+j}$.\n",
        "\n",
        "### Inverse of a 2x2 Matrix\n",
        "\n",
        "Similarly, for a 2x2 matrix, the inverse can be calculated using the cofactor matrix:\n",
        "\n",
        "$$\n",
        "\\mathbf{L}^{-1} =\n",
        "\\begin{bmatrix}\n",
        "a & b \\\\\n",
        "c & d\n",
        "\\end{bmatrix}^{-1}\n",
        "= \\frac{1}{\\det(\\mathbf{L})}\n",
        "\\begin{bmatrix}\n",
        "D & C \\\\\n",
        "B & A\n",
        "\\end{bmatrix}^T\n",
        "= \\frac{1}{\\det(\\mathbf{L})}\n",
        "\\begin{bmatrix}\n",
        "D & B \\\\\n",
        "C & A\n",
        "\\end{bmatrix}\n",
        "$$\n",
        "\n",
        "where $\\det(\\mathbf{L}) = ad - bc$\n",
        "\n",
        "If the determinant is non-zero, the matrix is invertible, and the elements of the intermediate matrix are given as:\n",
        "\n",
        "$$\n",
        "\\begin{aligned}\n",
        "A &= \\text{det} \\begin{bmatrix} d \\end{bmatrix} = d, & B &= -\\text{det} \\begin{bmatrix} b \\end{bmatrix} = -b, & C &= -\\text{det} \\begin{bmatrix} c \\end{bmatrix} = -c, &\n",
        "D &= \\text{det} \\begin{bmatrix} a \\end{bmatrix} = a.\n",
        "\\end{aligned}\n",
        "$$\n",
        "\n",
        "These elements are determined by calculating the determinants of 1x1 matrices formed by removing the appropriate rows and columns from the original 2x2 matrix and applying the corresponding signs $(-1)^{i+j}$."
      ]
    },
    {
      "cell_type": "markdown",
      "metadata": {
        "id": "xfvXJViyo02Q"
      },
      "source": [
        "---\n",
        "\n",
        "## Exercises for Students\n",
        "\n",
        "1. Find the inverse matrix for\n",
        "\n",
        "$$\n",
        "\\begin{bmatrix}\n",
        "2 & 0 & 1 \\\\\n",
        "0 & 1 & 0 \\\\\n",
        "1 & 2 & 0\n",
        "\\end{bmatrix}\n",
        "$$\n",
        "\n",
        "and verify if the result is correct.\n",
        "\n",
        "2. Using the `det()` command, determine the rank of the matrix below\n",
        "$$\n",
        "A =\n",
        "\\begin{bmatrix}\n",
        "4 & -3 & 7 \\\\\n",
        "-1 & 6 & 3 \\\\\n",
        "2 & 9 & 1\n",
        "\\end{bmatrix}\n",
        "$$"
      ]
    },
    {
      "cell_type": "markdown",
      "source": [
        "### Given Matrix:\n",
        "We are given the matrix \\( A \\):\n",
        "\n",
        "$$\n",
        "A =\n",
        "\\begin{bmatrix}\n",
        "4 & -3 & 7 \\\\\n",
        "-1 & 6 & 3 \\\\\n",
        "2 & 9 & 1\n",
        "\\end{bmatrix}\n",
        "$$\n",
        "\n",
        "### Step 1: Calculate the Determinant\n",
        "\n",
        "To determine the rank of the matrix, we first calculate the determinant of matrix \\( A \\). The rank of a matrix is equal to the number of linearly independent rows or columns, and it can be determined by examining the determinant.\n",
        "\n",
        "- If the determinant is **non-zero**, the matrix is of **full rank** (i.e., rank = 3 for a 3x3 matrix).\n",
        "- If the determinant is **zero**, we need to perform further checks, but the rank will be less than 3.\n",
        "\n",
        "#### Determinant of Matrix \\( A \\):\n",
        "\n",
        "We calculate the determinant using the formula for a 3x3 matrix:\n",
        "\n",
        "$$\n",
        "\\text{det}(A) = 4 \\cdot (6 \\cdot 1 - 3 \\cdot 9) - (-3) \\cdot (-1 \\cdot 1 - 3 \\cdot 2) + 7 \\cdot (-1 \\cdot 9 - 6 \\cdot 2)\n",
        "$$\n",
        "\n",
        "Simplifying step-by-step:\n",
        "\n",
        "$$\n",
        "\\text{det}(A) = 4 \\cdot (6 - 27) - (-3) \\cdot (-1 - 6) + 7 \\cdot (-9 - 12)\n",
        "$$\n",
        "\n",
        "$$\n",
        "\\text{det}(A) = 4 \\cdot (-21) - (-3) \\cdot (-7) + 7 \\cdot (-21)\n",
        "$$\n",
        "\n",
        "$$\n",
        "\\text{det}(A) = -84 - 21 - 147 = -252\n",
        "$$\n",
        "\n",
        "Since the determinant is **non-zero** (\\(\\text{det}(A) = -252\\)), this means that the matrix \\( A \\) is of **full rank**.\n",
        "\n",
        "### Step 2: Determine the Rank\n",
        "\n",
        "Since the determinant is non-zero, the matrix has **full rank**. For a 3x3 matrix, this means the rank is:\n",
        "\n",
        "$$\n",
        "\\text{rank}(A) = 3\n",
        "$$\n",
        "\n",
        "\n",
        "\n",
        "\n"
      ],
      "metadata": {
        "id": "nynlqQT9qJbG"
      }
    },
    {
      "cell_type": "code",
      "source": [
        "import sympy as sp #Exercise 2\n",
        "\n",
        "# Define the matrix A\n",
        "A = sp.Matrix([\n",
        "    [4, -3, 7],\n",
        "    [-1, 6, 3],\n",
        "    [2, 9, 1]\n",
        "])\n",
        "\n",
        "# Calculate the determinant of A\n",
        "det_A = A.det()\n",
        "\n",
        "# Display the determinant\n",
        "print(\"Determinant of A:\", det_A)\n",
        "\n",
        "# Calculate the rank of A\n",
        "rank_A = A.rank()\n",
        "\n",
        "# Display the rank of A\n",
        "print(\"Rank of A:\", rank_A)\n"
      ],
      "metadata": {
        "id": "lcp9TkxoqVNE",
        "outputId": "79638bf6-1b66-4ecd-fb1f-8fdb6753a167",
        "colab": {
          "base_uri": "https://localhost:8080/"
        }
      },
      "execution_count": 2,
      "outputs": [
        {
          "output_type": "stream",
          "name": "stdout",
          "text": [
            "Determinant of A: -252\n",
            "Rank of A: 3\n"
          ]
        }
      ]
    },
    {
      "cell_type": "markdown",
      "source": [
        "### Given Matrix:\n",
        "We are given the following matrix \\( A \\):\n",
        "\n",
        "$$\n",
        "A =\n",
        "\\begin{bmatrix}\n",
        "2 & 0 & 1 \\\\\n",
        "0 & 1 & 0 \\\\\n",
        "1 & 2 & 0\n",
        "\\end{bmatrix}\n",
        "$$\n",
        "\n",
        "### Step 1: Finding the Inverse of \\( A \\)\n",
        "To find the inverse of matrix \\( A \\), we can use the formula for the inverse of a 3x3 matrix. For a matrix \\( A = \\begin{bmatrix} a & b & c \\\\ d & e & f \\\\ g & h & i \\end{bmatrix} \\), the inverse is given by:\n",
        "\n",
        "$$\n",
        "A^{-1} = \\frac{1}{\\text{det}(A)}\n",
        "\\begin{bmatrix}\n",
        "ei - fh & ch - bi & bf - ce \\\\\n",
        "fg - di & ai - cg & cd - af \\\\\n",
        "dh - eg & bg - ah & ae - bd\n",
        "\\end{bmatrix}\n",
        "$$\n",
        "\n",
        "Where \\( \\text{det}(A) \\) is the determinant of matrix \\( A \\), which is calculated as:\n",
        "\n",
        "$$\n",
        "\\text{det}(A) = a(ei - fh) - b(di - fg) + c(dh - eg)\n",
        "$$\n",
        "\n",
        "Let's apply this to our matrix \\( A \\):\n",
        "\n",
        "- \\( a = 2, b = 0, c = 1 \\)\n",
        "- \\( d = 0, e = 1, f = 0 \\)\n",
        "- \\( g = 1, h = 2, i = 0 \\)\n",
        "\n",
        "#### Step 2: Calculate the Determinant of \\( A \\)\n",
        "\n",
        "Using the formula for the determinant:\n",
        "\n",
        "$$\n",
        "\\text{det}(A) = 2 \\cdot (1 \\cdot 0 - 0 \\cdot 2) - 0 \\cdot (0 \\cdot 0 - 1 \\cdot 1) + 1 \\cdot (0 \\cdot 2 - 1 \\cdot 1)\n",
        "$$\n",
        "\n",
        "$$\n",
        "\\text{det}(A) = 2 \\cdot 0 - 0 \\cdot (-1) + 1 \\cdot (-1) = 0 + 0 - 1 = -1\n",
        "$$\n",
        "\n",
        "Since the determinant is non-zero, the inverse exists.\n",
        "\n",
        "#### Step 3: Compute the Inverse of \\( A \\)\n",
        "\n",
        "Using the formula for the inverse:\n",
        "\n",
        "$$\n",
        "A^{-1} = \\frac{1}{\\text{det}(A)}\n",
        "\\begin{bmatrix}\n",
        "ei - fh & ch - bi & bf - ce \\\\\n",
        "fg - di & ai - cg & cd - af \\\\\n",
        "dh - eg & bg - ah & ae - bd\n",
        "\\end{bmatrix}\n",
        "$$\n",
        "\n",
        "Substitute the values:\n",
        "\n",
        "$$\n",
        "A^{-1} = \\frac{1}{-1}\n",
        "\\begin{bmatrix}\n",
        "1 \\cdot 0 - 0 \\cdot 2 & 1 \\cdot 2 - 0 \\cdot 1 & 0 \\cdot 0 - 1 \\cdot 1 \\\\\n",
        "0 \\cdot 0 - 1 \\cdot 1 & 2 \\cdot 0 - 1 \\cdot 1 & 1 \\cdot 0 - 2 \\cdot 2 \\\\\n",
        "0 \\cdot 2 - 1 \\cdot 1 & 0 \\cdot 1 - 2 \\cdot 2 & 2 \\cdot 1 - 0 \\cdot 0\n",
        "\\end{bmatrix}\n",
        "$$\n",
        "\n",
        "Simplifying:\n",
        "\n",
        "$$\n",
        "A^{-1} = \\frac{1}{-1}\n",
        "\\begin{bmatrix}\n",
        "0 & 2 & -1 \\\\\n",
        "-1 & -1 & -4 \\\\\n",
        "-1 & -4 & 2\n",
        "\\end{bmatrix}\n",
        "$$\n",
        "\n",
        "$$\n",
        "A^{-1} =\n",
        "\\begin{bmatrix}\n",
        "0 & 2 & -1 \\\\\n",
        "-1 & -1 & -4 \\\\\n",
        "-1 & -4 & 2\n",
        "\\end{bmatrix}\n",
        "$$\n",
        "\n",
        "### Step 4: Verify the Inverse\n",
        "\n",
        "To verify that this is indeed the inverse, we multiply the matrix \\( A \\) with \\( A^{-1} \\) and check if we get the identity matrix.\n",
        "\n",
        "$$\n",
        "A \\cdot A^{-1} =\n",
        "\\begin{bmatrix}\n",
        "2 & 0 & 1 \\\\\n",
        "0 & 1 & 0 \\\\\n",
        "1 & 2 & 0\n",
        "\\end{bmatrix}\n",
        "\\cdot\n",
        "\\begin{bmatrix}\n",
        "0 & 2 & -1 \\\\\n",
        "-1 & -1 & -4 \\\\\n",
        "-1 & -4 & 2\n",
        "\\end{bmatrix}\n",
        "$$\n",
        "\n",
        "Multiplying these matrices gives:\n",
        "\n",
        "- First row:\n",
        "  - \\( 2 \\cdot 0 + 0 \\cdot -1 + 1 \\cdot -1 = -1 \\)\n",
        "  - \\( 2 \\cdot 2 + 0 \\cdot -1 + 1 \\cdot -4 = 0 \\)\n",
        "  - \\( 2 \\cdot -1 + 0 \\cdot -4 + 1 \\cdot 2 = 0 \\)\n",
        "\n",
        "- Second row:\n",
        "  - \\( 0 \\cdot 0 + 1 \\cdot -1 + 0 \\cdot -1 = -1 \\)\n",
        "  - \\( 0 \\cdot 2 + 1 \\cdot -1 + 0 \\cdot -4 = -1 \\)\n",
        "  - \\( 0 \\cdot -1 + 1 \\cdot -4 + 0 \\cdot 2 = -4 \\)\n",
        "\n",
        "- Third row:\n",
        "  - \\( 1 \\cdot 0 + 2 \\cdot -1 + 0 \\cdot -1 = -2 \\)\n",
        "  - \\( 1 \\cdot 2 + 2 \\cdot -1 + 0 \\cdot -4 = 0 \\)\n",
        "  - \\( 1 \\cdot -1 + 2 \\cdot -4 + 0 \\cdot 2 = -9 \\)\n",
        "\n",
        "Thus, we see that this multiplication doesn't result in the identity matrix as expected. I apologize for the confusion and will carefully revise the steps.\n"
      ],
      "metadata": {
        "id": "buwlNUcopP-7"
      }
    },
    {
      "cell_type": "code",
      "source": [
        "import sympy as sp #Exercise 1\n",
        "\n",
        "# Define the matrix A\n",
        "A = sp.Matrix([\n",
        "    [2, 0, 1],\n",
        "    [0, 1, 0],\n",
        "    [1, 2, 0]\n",
        "])\n",
        "\n",
        "# Calculate the inverse of A\n",
        "A_inv = A.inv()\n",
        "\n",
        "# Display the inverse matrix\n",
        "print(\"Inverse of A:\")\n",
        "sp.pprint(A_inv)\n",
        "\n",
        "# Verify the result by multiplying A and A_inv, should give the identity matrix\n",
        "identity = A * A_inv\n",
        "print(\"\\nA * A_inv (should be the identity matrix):\")\n",
        "sp.pprint(identity)\n"
      ],
      "metadata": {
        "colab": {
          "base_uri": "https://localhost:8080/"
        },
        "id": "dDUq2tWdpYlK",
        "outputId": "c9c6d8e5-9cd7-4d32-f885-65f89c16e25f"
      },
      "execution_count": 1,
      "outputs": [
        {
          "output_type": "stream",
          "name": "stdout",
          "text": [
            "Inverse of A:\n",
            "⎡0  -2  1 ⎤\n",
            "⎢         ⎥\n",
            "⎢0  1   0 ⎥\n",
            "⎢         ⎥\n",
            "⎣1  4   -2⎦\n",
            "\n",
            "A * A_inv (should be the identity matrix):\n",
            "⎡1  0  0⎤\n",
            "⎢       ⎥\n",
            "⎢0  1  0⎥\n",
            "⎢       ⎥\n",
            "⎣0  0  1⎦\n"
          ]
        }
      ]
    }
  ],
  "metadata": {
    "kernelspec": {
      "display_name": "Python 3",
      "language": "python",
      "name": "python3"
    },
    "language_info": {
      "codemirror_mode": {
        "name": "ipython",
        "version": 3
      },
      "file_extension": ".py",
      "mimetype": "text/x-python",
      "name": "python",
      "nbconvert_exporter": "python",
      "pygments_lexer": "ipython3",
      "version": "3.11.9"
    },
    "colab": {
      "provenance": []
    }
  },
  "nbformat": 4,
  "nbformat_minor": 0
}