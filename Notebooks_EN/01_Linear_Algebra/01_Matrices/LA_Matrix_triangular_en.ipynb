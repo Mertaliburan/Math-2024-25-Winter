{
  "cells": [
    {
      "cell_type": "markdown",
      "metadata": {
        "id": "hnwuzY0oshEu"
      },
      "source": [
        "# Triangular Matrices and determinant calculation"
      ]
    },
    {
      "cell_type": "code",
      "execution_count": null,
      "metadata": {
        "id": "dpD7W7jNshEv",
        "outputId": "e28a7e3c-5a0a-4d9b-a4ed-4034baa3fc52"
      },
      "outputs": [
        {
          "data": {
            "text/markdown": [
              "**Initial Matrix:**"
            ],
            "text/plain": [
              "<IPython.core.display.Markdown object>"
            ]
          },
          "metadata": {},
          "output_type": "display_data"
        },
        {
          "data": {
            "text/latex": [
              "$\\displaystyle \\left[\\begin{matrix}1 & 2 & 3\\\\2 & 5 & 3\\\\3 & 2 & 1\\end{matrix}\\right]$"
            ],
            "text/plain": [
              "Matrix([\n",
              "[1, 2, 3],\n",
              "[2, 5, 3],\n",
              "[3, 2, 1]])"
            ]
          },
          "metadata": {},
          "output_type": "display_data"
        }
      ],
      "source": [
        "import sympy as sp\n",
        "from sympy import Matrix, symbols, Rational\n",
        "from IPython.display import display, Markdown\n",
        "\n",
        "class SymbolicMatrix:\n",
        "    def __init__(self, matrix):\n",
        "        self.matrix = Matrix(matrix).applyfunc(Rational)\n",
        "        self.operations = []\n",
        "        display(Markdown(\"**Initial Matrix:**\"))\n",
        "        display(self.matrix)  # Display the matrix upon initialization\n",
        "\n",
        "    def __repr__(self):\n",
        "        return repr(self.matrix)  # Use Matrix's repr\n",
        "\n",
        "    def __str__(self):\n",
        "        return str(self.matrix)  # Use Matrix's str\n",
        "\n",
        "    def _repr_latex_(self):\n",
        "        return self.matrix._repr_latex_()  # Delegate LaTeX display\n",
        "\n",
        "    def _validate_row_number(self, row):\n",
        "        if not isinstance(row, int):\n",
        "            raise TypeError(\"Row number must be an integer.\")\n",
        "        if row < 1 or row > self.matrix.rows:\n",
        "            raise IndexError(f\"Row number must be in the range from 1 to {self.matrix.rows}.\")\n",
        "        return row - 1\n",
        "\n",
        "    def _validate_col_number(self, col):\n",
        "        if not isinstance(col, int):\n",
        "            raise TypeError(\"Column number must be an integer.\")\n",
        "        if col < 1 or col > self.matrix.cols:\n",
        "            raise IndexError(f\"Column number must be in the range from 1 to {self.matrix.cols}.\")\n",
        "        return col - 1\n",
        "\n",
        "    # Row operations\n",
        "    def add_row(self, target_row, source_row, coefficient):\n",
        "        target_idx = self._validate_row_number(target_row)\n",
        "        source_idx = self._validate_row_number(source_row)\n",
        "        coefficient = Rational(coefficient)\n",
        "\n",
        "        self.matrix.row_op(target_idx, lambda v, j: v + coefficient * self.matrix[source_idx, j])\n",
        "        operation_str = f\"r{target_row} = r{target_row} + {coefficient}*r{source_row}\"\n",
        "        self.operations.append(operation_str)\n",
        "        display(Markdown(f\"**Operation:** {operation_str}\"))\n",
        "        display(self.matrix)\n",
        "\n",
        "    def multiply_row(self, row, coefficient):\n",
        "        row_idx = self._validate_row_number(row)\n",
        "        coefficient = Rational(coefficient)\n",
        "        self.matrix.row_op(row_idx, lambda v, _: coefficient * v)\n",
        "        operation_str = f\"r{row} = {coefficient}*r{row}\"\n",
        "        self.operations.append(operation_str)\n",
        "        display(Markdown(f\"**Operation:** {operation_str}\"))\n",
        "        display(self.matrix)\n",
        "\n",
        "    def swap_rows(self, row1, row2):\n",
        "        row1_idx = self._validate_row_number(row1)\n",
        "        row2_idx = self._validate_row_number(row2)\n",
        "        self.matrix.row_swap(row1_idx, row2_idx)\n",
        "        operation_str = f\"Swap r{row1} <-> r{row2}\"\n",
        "        self.operations.append(operation_str)\n",
        "        display(Markdown(f\"**Operation:** {operation_str}\"))\n",
        "        display(self.matrix)\n",
        "\n",
        "    # Column operations\n",
        "    def add_col(self, target_col, source_col, coefficient):\n",
        "        target_idx = self._validate_col_number(target_col)\n",
        "        source_idx = self._validate_col_number(source_col)\n",
        "        self.matrix.col_op(target_idx, lambda v, i: v + coefficient * self.matrix[i, source_idx])\n",
        "        operation_str = f\"c{target_col} = c{target_col} + {coefficient}*c{source_col}\"\n",
        "        self.operations.append(operation_str)\n",
        "        display(Markdown(f\"**Operation:** {operation_str}\"))\n",
        "        display(self.matrix)\n",
        "\n",
        "    def multiply_col(self, col, coefficient):\n",
        "        col_idx = self._validate_col_number(col)\n",
        "        self.matrix.col_op(col_idx, lambda v, _: coefficient * v)\n",
        "        operation_str = f\"c{col} = {coefficient}*c{col}\"\n",
        "        self.operations.append(operation_str)\n",
        "        display(Markdown(f\"**Operation:** {operation_str}\"))\n",
        "        display(self.matrix)\n",
        "\n",
        "    def swap_cols(self, col1, col2):\n",
        "        col1_idx = self._validate_col_number(col1)\n",
        "        col2_idx = self._validate_col_number(col2)\n",
        "        self.matrix.col_swap(col1_idx, col2_idx)\n",
        "        operation_str = f\"Swap c{col1} <-> c{col2}\"\n",
        "        self.operations.append(operation_str)\n",
        "        display(Markdown(f\"**Operation:** {operation_str}\"))\n",
        "        display(self.matrix)\n",
        "\n",
        "    # Display the operations performed\n",
        "    def print_operations(self):\n",
        "        display(Markdown(\"**Performed Operations:**\"))\n",
        "        for op in self.operations:\n",
        "            print(op)\n",
        "\n",
        "# Example usage\n",
        "mat = [[1, 2, 3], [2, 5, 3], [3, 2, 1]]\n",
        "\n",
        "m = SymbolicMatrix(mat) # instance of SymbolicMatrix class\n",
        "\n",
        "# define the same matrix for computation check\n",
        "original_matrix = sp.Matrix(mat)"
      ]
    },
    {
      "cell_type": "code",
      "execution_count": null,
      "metadata": {
        "id": "n7jSOEjZshEx",
        "outputId": "814caca9-26de-4fd3-9f3d-2e87051dae07"
      },
      "outputs": [
        {
          "data": {
            "text/markdown": [
              "**Operation:** r2 = r2 + -2*r1"
            ],
            "text/plain": [
              "<IPython.core.display.Markdown object>"
            ]
          },
          "metadata": {},
          "output_type": "display_data"
        },
        {
          "data": {
            "text/latex": [
              "$\\displaystyle \\left[\\begin{matrix}1 & 2 & 3\\\\0 & 1 & -3\\\\3 & 2 & 1\\end{matrix}\\right]$"
            ],
            "text/plain": [
              "Matrix([\n",
              "[1, 2,  3],\n",
              "[0, 1, -3],\n",
              "[3, 2,  1]])"
            ]
          },
          "metadata": {},
          "output_type": "display_data"
        }
      ],
      "source": [
        "m.add_row(2, 1, -2)"
      ]
    },
    {
      "cell_type": "code",
      "execution_count": null,
      "metadata": {
        "id": "dmb2x8ExshEx",
        "outputId": "e0156d8a-f696-4d89-b05d-99fbf8b74251"
      },
      "outputs": [
        {
          "data": {
            "text/markdown": [
              "**Operation:** r3 = r3 + -3*r1"
            ],
            "text/plain": [
              "<IPython.core.display.Markdown object>"
            ]
          },
          "metadata": {},
          "output_type": "display_data"
        },
        {
          "data": {
            "text/latex": [
              "$\\displaystyle \\left[\\begin{matrix}1 & 2 & 3\\\\0 & 1 & -3\\\\0 & -4 & -8\\end{matrix}\\right]$"
            ],
            "text/plain": [
              "Matrix([\n",
              "[1,  2,  3],\n",
              "[0,  1, -3],\n",
              "[0, -4, -8]])"
            ]
          },
          "metadata": {},
          "output_type": "display_data"
        }
      ],
      "source": [
        "m.add_row(3, 1, -3)"
      ]
    },
    {
      "cell_type": "code",
      "execution_count": null,
      "metadata": {
        "id": "MZdAxizoshEx",
        "outputId": "ac6478db-f855-45d5-c2de-0cf9caec66fc"
      },
      "outputs": [
        {
          "data": {
            "text/markdown": [
              "**Operation:** r3 = r3 + 4*r2"
            ],
            "text/plain": [
              "<IPython.core.display.Markdown object>"
            ]
          },
          "metadata": {},
          "output_type": "display_data"
        },
        {
          "data": {
            "text/latex": [
              "$\\displaystyle \\left[\\begin{matrix}1 & 2 & 3\\\\0 & 1 & -3\\\\0 & 0 & -20\\end{matrix}\\right]$"
            ],
            "text/plain": [
              "Matrix([\n",
              "[1, 2,   3],\n",
              "[0, 1,  -3],\n",
              "[0, 0, -20]])"
            ]
          },
          "metadata": {},
          "output_type": "display_data"
        }
      ],
      "source": [
        "m.add_row(3, 2, 4)"
      ]
    },
    {
      "cell_type": "markdown",
      "metadata": {
        "id": "bE4oOeTIshEx"
      },
      "source": [
        "The resulting matrix is an upper triangular matrix.\n",
        "\n",
        "### Determinant of a Triangular Matrix\n",
        "\n",
        "For a triangular matrix, the determinant is equal to the product of the elements on its diagonal."
      ]
    },
    {
      "cell_type": "code",
      "execution_count": null,
      "metadata": {
        "id": "bR-jqglIshEy",
        "outputId": "f235acec-d38d-4b4b-8469-6fdb47f7027e"
      },
      "outputs": [
        {
          "data": {
            "text/plain": [
              "True"
            ]
          },
          "execution_count": 5,
          "metadata": {},
          "output_type": "execute_result"
        }
      ],
      "source": [
        "# The determinant of a triangular matrix is the product of the diagonal elements!\n",
        "original_matrix.det() == 1 * 1 * (-20)"
      ]
    },
    {
      "cell_type": "markdown",
      "metadata": {
        "id": "UE6XFEKIshEy"
      },
      "source": [
        "---\n",
        "\n",
        "## Exercises for Students\n",
        "\n",
        "Perform row and column operations to reduce the following matrices to an upper triangular form and calculate their determinants by taking the product of the diagonal elements.\n",
        "\n",
        "1.\n",
        "$$\n",
        "A = \\begin{bmatrix}\n",
        "12 & 3 \\\\\n",
        "-18 & -4\n",
        "\\end{bmatrix}\n",
        "$$\n",
        "\n",
        "2.\n",
        "\n",
        "$$\n",
        "B = \\begin{bmatrix}\n",
        "1 & 2 & 3 \\\\\n",
        "4 & 5 & 6 \\\\\n",
        "7 & 8 & 9\n",
        "\\end{bmatrix}\n",
        "$$"
      ]
    },
    {
      "cell_type": "markdown",
      "source": [
        "### Given Matrix:\n",
        "\n",
        "We are given the matrix \\( B \\):\n",
        "\n",
        "$$\n",
        "B =\n",
        "\\begin{bmatrix}\n",
        "1 & 2 & 3 \\\\\n",
        "4 & 5 & 6 \\\\\n",
        "7 & 8 & 9\n",
        "\\end{bmatrix}\n",
        "$$\n",
        "\n",
        "### Step 1: Perform Row Operations to Make \\( B \\) Upper Triangular\n",
        "\n",
        "We will perform row operations to reduce the matrix \\( B \\) into an upper triangular form.\n",
        "\n",
        "#### Row Operation 1: Make the element below the pivot (1 in the first row, first column) zero.\n",
        "\n",
        "We perform the row operations \\( R_2 \\rightarrow R_2 - 4R_1 \\) and \\( R_3 \\rightarrow R_3 - 7R_1 \\):\n",
        "\n",
        "\\[\n",
        "R_2 \\rightarrow R_2 - 4R_1\n",
        "\\]\n",
        "\\[\n",
        "R_3 \\rightarrow R_3 - 7R_1\n",
        "\\]\n",
        "\n",
        "After applying these operations, the matrix becomes:\n",
        "\n",
        "$$\n",
        "B =\n",
        "\\begin{bmatrix}\n",
        "1 & 2 & 3 \\\\\n",
        "0 & -3 & -6 \\\\\n",
        "0 & -6 & -12\n",
        "\\end{bmatrix}\n",
        "$$\n",
        "\n",
        "#### Row Operation 2: Make the element below the pivot in the second column (i.e., -6 in the third row, second column) zero.\n",
        "\n",
        "We perform the row operation \\( R_3 \\rightarrow R_3 - 2R_2 \\):\n",
        "\n",
        "\\[\n",
        "R_3 \\rightarrow R_3 - 2R_2\n",
        "\\]\n",
        "\n",
        "After this operation, the matrix becomes:\n",
        "\n",
        "$$\n",
        "B =\n",
        "\\begin{bmatrix}\n",
        "1 & 2 & 3 \\\\\n",
        "0 & -3 & -6 \\\\\n",
        "0 & 0 & 0\n",
        "\\end{bmatrix}\n",
        "$$\n",
        "\n",
        "### Step 2: Upper Triangular Matrix\n",
        "\n",
        "Now, the matrix is in upper triangular form:\n",
        "\n",
        "$$\n",
        "B =\n",
        "\\begin{bmatrix}\n",
        "1 & 2 & 3 \\\\\n",
        "0 & -3 & -6 \\\\\n",
        "0 & 0 & 0\n",
        "\\end{bmatrix}\n",
        "$$\n",
        "\n",
        "### Step 3: Calculate the Determinant\n",
        "\n",
        "The determinant of a matrix in upper triangular form is the product of the diagonal elements. For matrix \\( B \\), the diagonal elements are \\( 1 \\), \\( -3 \\), and \\( 0 \\).\n",
        "\n",
        "So, the determinant of matrix \\( B \\) is:\n",
        "\n",
        "$$\n",
        "\\text{det}(B) = 1 \\times (-3) \\times 0 = 0\n",
        "$$\n",
        "\n",
        "### Final Answer:\n",
        "\n",
        "The matrix \\( B \\) has been reduced to upper triangular form:\n",
        "\n",
        "$$\n",
        "B =\n",
        "\\begin{bmatrix}\n",
        "1 & 2 & 3 \\\\\n",
        "0 & -3 & -6 \\\\\n",
        "0 & 0 & 0\n",
        "\\end{bmatrix}\n",
        "$$\n",
        "\n",
        "And the determinant of matrix \\( B \\) is:\n",
        "\n",
        "$$\n",
        "\\text{det}(B) = 0\n",
        "$$\n"
      ],
      "metadata": {
        "id": "G3kOAQcRtmBe"
      }
    },
    {
      "cell_type": "code",
      "source": [
        "import sympy as sp #Exercise 2\n",
        "\n",
        "# Define the matrix B\n",
        "B = sp.Matrix([\n",
        "    [1, 2, 3],\n",
        "    [4, 5, 6],\n",
        "    [7, 8, 9]\n",
        "])\n",
        "\n",
        "# Perform row operations to reduce to upper triangular form\n",
        "\n",
        "# Row 2 -> Row 2 - 4 * Row 1\n",
        "B[1, :] = B.row(1) - 4 * B.row(0)\n",
        "\n",
        "# Row 3 -> Row 3 - 7 * Row 1\n",
        "B[2, :] = B.row(2) - 7 * B.row(0)\n",
        "\n",
        "# Row 3 -> Row 3 - 2 * Row 2\n",
        "B[2, :] = B.row(2) - 2 * B.row(1)\n",
        "\n",
        "# Display the upper triangular matrix\n",
        "print(\"Upper Triangular Matrix B:\")\n",
        "sp.pprint(B)\n",
        "\n",
        "# Calculate the determinant of the upper triangular matrix\n",
        "det_B = B.det()\n",
        "\n",
        "# Display the determinant\n",
        "print(f\"Determinant of B: {det_B}\")\n"
      ],
      "metadata": {
        "id": "xoy1c3Rmt4iZ",
        "outputId": "b761ec7b-0dd8-4bc4-ed06-82a90e2ec862",
        "colab": {
          "base_uri": "https://localhost:8080/"
        }
      },
      "execution_count": 4,
      "outputs": [
        {
          "output_type": "stream",
          "name": "stdout",
          "text": [
            "Upper Triangular Matrix B:\n",
            "⎡1  2   3 ⎤\n",
            "⎢         ⎥\n",
            "⎢0  -3  -6⎥\n",
            "⎢         ⎥\n",
            "⎣0  0   0 ⎦\n",
            "Determinant of B: 0\n"
          ]
        }
      ]
    },
    {
      "cell_type": "markdown",
      "source": [
        "### Given Matrix:\n",
        "\n",
        "We are given the matrix \\( A \\):\n",
        "\n",
        "$$\n",
        "A = \\begin{bmatrix}\n",
        "12 & 3 \\\\\n",
        "-18 & -4\n",
        "\\end{bmatrix}\n",
        "$$\n",
        "\n",
        "### Step 1: Perform Row Operations to Make \\( A \\) Upper Triangular\n",
        "\n",
        "To transform matrix \\( A \\) into upper triangular form, we need to eliminate the value below the main diagonal. The first row already has a non-zero element in the first column (12), so we will try to eliminate the element in the second row, first column (-18).\n",
        "\n",
        "#### Row Operation:\n",
        "\n",
        "We perform the row operation \\( R_2 \\rightarrow R_2 + \\frac{3}{2} R_1 \\), which means adding \\( \\frac{3}{2} \\) times the first row to the second row:\n",
        "\n",
        "\\[\n",
        "R_2 \\rightarrow R_2 + \\frac{3}{2} R_1\n",
        "\\]\n",
        "\n",
        "This gives:\n",
        "\n",
        "$$\n",
        "A = \\begin{bmatrix}\n",
        "12 & 3 \\\\\n",
        "0 & \\frac{1}{2}\n",
        "\\end{bmatrix}\n",
        "$$\n",
        "\n",
        "### Step 2: Upper Triangular Matrix\n",
        "\n",
        "Now, the matrix is in upper triangular form:\n",
        "\n",
        "$$\n",
        "A = \\begin{bmatrix}\n",
        "12 & 3 \\\\\n",
        "0 & \\frac{1}{2}\n",
        "\\end{bmatrix}\n",
        "$$\n",
        "\n",
        "### Step 3: Calculate the Determinant\n",
        "\n",
        "The determinant of an upper triangular matrix is the product of the diagonal elements. So, we can calculate the determinant of matrix \\( A \\) as:\n",
        "\n",
        "$$\n",
        "\\text{det}(A) = (12) \\times \\left(\\frac{1}{2}\\right) = 6\n",
        "$$\n",
        "\n",
        "### Final Answer:\n",
        "\n",
        "The matrix \\( A \\) has been reduced to upper triangular form:\n",
        "\n",
        "$$\n",
        "A = \\begin{bmatrix}\n",
        "12 & 3 \\\\\n",
        "0 & \\frac{1}{2}\n",
        "\\end{bmatrix}\n",
        "$$\n",
        "\n",
        "And the determinant of matrix \\( A \\) is:\n",
        "\n",
        "$$\n",
        "\\text{det}(A) = 6\n",
        "$$\n"
      ],
      "metadata": {
        "id": "8PVd45pOs0ag"
      }
    },
    {
      "cell_type": "code",
      "source": [
        "import sympy as sp #Exercise 1\n",
        "\n",
        "# Define the matrix A\n",
        "A = sp.Matrix([\n",
        "    [12, 3],\n",
        "    [-18, -4]\n",
        "])\n",
        "\n",
        "# Perform row operation to reduce to upper triangular form\n",
        "# Row 2 -> Row 2 + (3/2) * Row 1\n",
        "A[1, :] = A.row(1) + (3/2) * A.row(0)\n",
        "\n",
        "# Display the upper triangular matrix\n",
        "print(\"Upper Triangular Matrix A:\")\n",
        "sp.pprint(A)\n",
        "\n",
        "# Calculate the determinant of the upper triangular matrix\n",
        "det_A = A.det()\n",
        "\n",
        "# Display the determinant\n",
        "print(f\"Determinant of A: {det_A}\")\n"
      ],
      "metadata": {
        "id": "YCuBHQh7tRU3",
        "outputId": "223d8d9f-e925-4d10-b626-6c4b31252f9f",
        "colab": {
          "base_uri": "https://localhost:8080/"
        }
      },
      "execution_count": 2,
      "outputs": [
        {
          "output_type": "stream",
          "name": "stdout",
          "text": [
            "Upper Triangular Matrix A:\n",
            "⎡12   3 ⎤\n",
            "⎢       ⎥\n",
            "⎣0   0.5⎦\n",
            "Determinant of A: 6.00000000000000\n"
          ]
        }
      ]
    },
    {
      "cell_type": "markdown",
      "metadata": {
        "id": "hTiJXq1NshEy"
      },
      "source": []
    }
  ],
  "metadata": {
    "kernelspec": {
      "display_name": "Python 3",
      "language": "python",
      "name": "python3"
    },
    "language_info": {
      "codemirror_mode": {
        "name": "ipython",
        "version": 3
      },
      "file_extension": ".py",
      "mimetype": "text/x-python",
      "name": "python",
      "nbconvert_exporter": "python",
      "pygments_lexer": "ipython3",
      "version": "3.11.9"
    },
    "colab": {
      "provenance": []
    }
  },
  "nbformat": 4,
  "nbformat_minor": 0
}