{
  "cells": [
    {
      "cell_type": "markdown",
      "metadata": {
        "id": "MpBll8-Hm0qE"
      },
      "source": [
        "# Determinants of 2x2 and 3x3 matrices\n",
        "\n",
        "### Determinant of a 2x2 Matrix\n",
        "\n",
        "The general formula for the determinant of a 2x2 matrix, where the matrix looks as follows:\n",
        "\n",
        "$$\n",
        "\\mathbf{A} =\n",
        "\\begin{pmatrix}\n",
        "a_{11} & a_{12} \\\\\n",
        "a_{21} & a_{22}\n",
        "\\end{pmatrix}\n",
        "$$\n",
        "\n",
        "The determinant of a 2x2 matrix is calculated using the formula:\n",
        "\n",
        "$$\n",
        "\\text{det}(A) = a_{11} \\cdot a_{22} - a_{12} \\cdot a_{21}\n",
        "$$\n",
        "\n",
        "### Determinant of a 3x3 Matrix\n",
        "\n",
        "The general formula for the determinant of a 3x3 matrix, where the matrix looks as follows:\n",
        "\n",
        "$$\n",
        "\\mathbf{B} =\n",
        "\\begin{pmatrix}\n",
        "a_{11} & a_{12} & a_{13} \\\\\n",
        "a_{21} & a_{22} & a_{23} \\\\\n",
        "a_{31} & a_{32} & a_{33}\n",
        "\\end{pmatrix}\n",
        "$$\n",
        "\n",
        "The determinant of a 3x3 matrix can be calculated using Sarrus' rule or Laplace expansion. Here, we will use Sarrus' rule:\n",
        "\n",
        "$$\n",
        "\\text{det}(B) = a_{11} \\cdot a_{22} \\cdot a_{33} + a_{12} \\cdot a_{23} \\cdot a_{31} + a_{13} \\cdot a_{21} \\cdot a_{32}\n",
        "- a_{13} \\cdot a_{22} \\cdot a_{31} - a_{12} \\cdot a_{21} \\cdot a_{33} - a_{11} \\cdot a_{23} \\cdot a_{32}\n",
        "$$\n",
        "\n",
        "<img src=\"https://upload.wikimedia.org/wikipedia/commons/c/c0/Sarrus_rule1.svg\" alt=\"Image description\" width=\"300\" align=\"center\"/>\n",
        "\n",
        "Note: Sarrus' rule does not work for matrices larger than 3x3.\n",
        "\n",
        "### Calculating Determinants in Python using SymPy\n",
        "\n",
        "Now, using the SymPy library, we will calculate the determinants for 2x2 and 3x3 matrices."
      ]
    },
    {
      "cell_type": "code",
      "execution_count": null,
      "metadata": {
        "id": "te6RrYUQm0qF",
        "outputId": "6c8e27e4-fc4f-4c36-d4ef-030b42e9cee7"
      },
      "outputs": [
        {
          "data": {
            "text/latex": [
              "$\\displaystyle \\left[\\begin{matrix}2 & 3\\\\1 & 4\\end{matrix}\\right]$"
            ],
            "text/plain": [
              "Matrix([\n",
              "[2, 3],\n",
              "[1, 4]])"
            ]
          },
          "execution_count": 1,
          "metadata": {},
          "output_type": "execute_result"
        }
      ],
      "source": [
        "import sympy as sp\n",
        "\n",
        "# Define the matrix\n",
        "A = sp.Matrix([[2, 3], [1, 4]])\n",
        "A # display the matrix"
      ]
    },
    {
      "cell_type": "code",
      "execution_count": null,
      "metadata": {
        "notebookRunGroups": {
          "groupValue": "2"
        },
        "id": "i_NCpMdTm0qG",
        "outputId": "a853ca81-1954-4c5c-b442-365876c397b0"
      },
      "outputs": [
        {
          "data": {
            "text/plain": [
              "True"
            ]
          },
          "execution_count": 2,
          "metadata": {},
          "output_type": "execute_result"
        }
      ],
      "source": [
        "# Verify the correctness of the calculations\n",
        "(2*4 - 3*1) == A.det()"
      ]
    },
    {
      "cell_type": "code",
      "execution_count": null,
      "metadata": {
        "id": "XHMUUQ9vm0qG",
        "outputId": "8061b9bd-f28c-4315-fdc8-721488ffbf29"
      },
      "outputs": [
        {
          "data": {
            "text/latex": [
              "$\\displaystyle \\left[\\begin{matrix}2 & 3 & 1\\\\1 & 4 & 5\\\\3 & 2 & 1\\end{matrix}\\right]$"
            ],
            "text/plain": [
              "Matrix([\n",
              "[2, 3, 1],\n",
              "[1, 4, 5],\n",
              "[3, 2, 1]])"
            ]
          },
          "execution_count": 3,
          "metadata": {},
          "output_type": "execute_result"
        }
      ],
      "source": [
        "# 3x3 Matrix\n",
        "B = sp.Matrix([[2, 3, 1], [1, 4, 5], [3, 2, 1]])\n",
        "B"
      ]
    },
    {
      "cell_type": "code",
      "execution_count": null,
      "metadata": {
        "id": "_9UX9vptm0qH",
        "outputId": "7b3c98ea-9b55-4153-a2f5-bd960fbb18e6"
      },
      "outputs": [
        {
          "data": {
            "text/plain": [
              "True"
            ]
          },
          "execution_count": 4,
          "metadata": {},
          "output_type": "execute_result"
        }
      ],
      "source": [
        "# Verify the correctness of the calculations\n",
        "(2*4*1 + 3*5*3 + 1*1*2 - 1*4*3 - 5*2*2 - 3*1*1) == B.det()"
      ]
    },
    {
      "cell_type": "markdown",
      "metadata": {
        "id": "vnhBCbQGm0qH"
      },
      "source": [
        "---\n",
        "\n",
        "## Exercises for Students\n",
        "\n",
        "Calculate the determinants for the 2x2 and 3x3 matrices given below.\n",
        "\n",
        "1. 2x2 Matrices:\n",
        "\n",
        "$$\n",
        "\\mathbf{A} =\n",
        "\\begin{pmatrix}\n",
        "2 & 3 \\\\\n",
        "1 & 4\n",
        "\\end{pmatrix}\n",
        ", \\qquad\n",
        "\\mathbf{B} =\n",
        "\\begin{pmatrix}\n",
        "5 & 6 \\\\\n",
        "7 & 8\n",
        "\\end{pmatrix}\n",
        ", \\qquad\n",
        "\\mathbf{C} =\n",
        "\\begin{pmatrix}\n",
        "-1 & 2 \\\\\n",
        "3 & 0\n",
        "\\end{pmatrix}\n",
        "$$\n",
        "\n",
        "2. 3x3 Matrices:\n",
        "\n",
        "\n",
        "$$\n",
        "\\mathbf{D} =\n",
        "\\begin{pmatrix}\n",
        "1 & 0 & 2 \\\\\n",
        "-1 & 3 & 1 \\\\\n",
        "2 & 4 & -2\n",
        "\\end{pmatrix}\n",
        ", \\qquad\n",
        "\\mathbf{E} =\n",
        "\\begin{pmatrix}\n",
        "3 & 1 & -1 \\\\\n",
        "0 & 2 & 4 \\\\\n",
        "5 & 3 & 2\n",
        "\\end{pmatrix}\n",
        ", \\qquad\n",
        "\\mathbf{F} =\n",
        "\\begin{pmatrix}\n",
        "2 & -3 & 1 \\\\\n",
        "1 & 4 & -2 \\\\\n",
        "1 & 5 & 3\n",
        "\\end{pmatrix}\n",
        "$$"
      ]
    },
    {
      "cell_type": "markdown",
      "source": [
        "Given matrices:\n",
        "\n",
        "$$\n",
        "\\mathbf{A} =\n",
        "\\begin{pmatrix}\n",
        "2 & 3 \\\\\n",
        "1 & 4\n",
        "\\end{pmatrix}, \\quad\n",
        "\\mathbf{B} =\n",
        "\\begin{pmatrix}\n",
        "5 & 6 \\\\\n",
        "7 & 8\n",
        "\\end{pmatrix}, \\quad\n",
        "\\mathbf{C} =\n",
        "\\begin{pmatrix}\n",
        "-1 & 2 \\\\\n",
        "3 & 0\n",
        "\\end{pmatrix}\n",
        "$$\n",
        "\n",
        "### 1. Matrix Addition: \\( \\mathbf{A} + \\mathbf{B} \\)\n",
        "\n",
        "$$\n",
        "\\mathbf{A} + \\mathbf{B} =\n",
        "\\begin{pmatrix}\n",
        "2 & 3 \\\\\n",
        "1 & 4\n",
        "\\end{pmatrix}\n",
        "+\n",
        "\\begin{pmatrix}\n",
        "5 & 6 \\\\\n",
        "7 & 8\n",
        "\\end{pmatrix}\n",
        "=\n",
        "\\begin{pmatrix}\n",
        "7 & 9 \\\\\n",
        "8 & 12\n",
        "\\end{pmatrix}\n",
        "$$\n",
        "\n",
        "### 2. Matrix Multiplication: \\( \\mathbf{A} \\cdot \\mathbf{B} \\)\n",
        "\n",
        "$$\n",
        "\\mathbf{A} \\cdot \\mathbf{B} =\n",
        "\\begin{pmatrix}\n",
        "2 & 3 \\\\\n",
        "1 & 4\n",
        "\\end{pmatrix}\n",
        "\\cdot\n",
        "\\begin{pmatrix}\n",
        "5 & 6 \\\\\n",
        "7 & 8\n",
        "\\end{pmatrix}\n",
        "=\n",
        "\\begin{pmatrix}\n",
        "31 & 36 \\\\\n",
        "33 & 38\n",
        "\\end{pmatrix}\n",
        "$$\n",
        "\n",
        "### 3. Determinants:\n",
        "\n",
        "- Determinant of \\( \\mathbf{A} \\):\n",
        "\n",
        "$$\n",
        "\\text{det}(\\mathbf{A}) = (2 \\cdot 4) - (3 \\cdot 1) = 5\n",
        "$$\n",
        "\n",
        "- Determinant of \\( \\mathbf{B} \\):\n",
        "\n",
        "$$\n",
        "\\text{det}(\\mathbf{B}) = (5 \\cdot 8) - (6 \\cdot 7) = -2\n",
        "$$\n",
        "\n",
        "- Determinant of \\( \\mathbf{C} \\):\n",
        "\n",
        "$$\n",
        "\\text{det}(\\mathbf{C}) = (-1 \\cdot 0) - (2 \\cdot 3) = -6\n",
        "$$\n",
        "\n",
        "### 4. Inverses:\n",
        "\n",
        "- Inverse of \\( \\mathbf{A} \\):\n",
        "\n",
        "$$\n",
        "\\mathbf{A}^{-1} = \\frac{1}{5}\n",
        "\\begin{pmatrix}\n",
        "4 & -3 \\\\\n",
        "-1 & 2\n",
        "\\end{pmatrix}\n",
        "$$\n",
        "\n",
        "- Inverse of \\( \\mathbf{B} \\):\n",
        "\n",
        "$$\n",
        "\\mathbf{B}^{-1} = \\frac{1}{-2}\n",
        "\\begin{pmatrix}\n",
        "8 & -6 \\\\\n",
        "-7 & 5\n",
        "\\end{pmatrix}\n",
        "=\n",
        "\\begin{pmatrix}\n",
        "-4 & 3 \\\\\n",
        "3.5 & -2.5\n",
        "\\end{pmatrix}\n",
        "$$\n",
        "\n",
        "- Inverse of \\( \\mathbf{C} \\):\n",
        "\n",
        "$$\n",
        "\\mathbf{C}^{-1} = \\frac{1}{-6}\n",
        "\\begin{pmatrix}\n",
        "0 & -2 \\\\\n",
        "-3 & -1\n",
        "\\end{pmatrix}\n",
        "=\n",
        "\\begin{pmatrix}\n",
        "0 & \\frac{1}{3} \\\\\n",
        "\\frac{1}{2} & \\frac{1}{6}\n",
        "\\end{pmatrix}\n",
        "$$\n"
      ],
      "metadata": {
        "id": "OWEJEZdinLW2"
      }
    },
    {
      "cell_type": "code",
      "source": [
        "from sympy import Matrix #Exercise 1\n",
        "\n",
        "# Define the matrices A, B, and C\n",
        "A = Matrix([[2, 3], [1, 4]])\n",
        "B = Matrix([[5, 6], [7, 8]])\n",
        "C = Matrix([[-1, 2], [3, 0]])\n",
        "\n",
        "# Matrix Addition: A + B\n",
        "addition_AB = A + B\n",
        "\n",
        "# Matrix Multiplication: A * B\n",
        "multiplication_AB = A * B\n",
        "\n",
        "# Determinants of A, B, C\n",
        "det_A = A.det()\n",
        "det_B = B.det()\n",
        "det_C = C.det()\n",
        "\n",
        "# Inverses of A, B, C (if the determinant is not zero)\n",
        "inv_A = A.inv() if det_A != 0 else None\n",
        "inv_B = B.inv() if det_B != 0 else None\n",
        "inv_C = C.inv() if det_C != 0 else None\n",
        "\n",
        "# Output the results\n",
        "print(\"Matrix A + B:\")\n",
        "print(addition_AB)\n",
        "\n",
        "print(\"\\nMatrix A * B:\")\n",
        "print(multiplication_AB)\n",
        "\n",
        "print(\"\\nDeterminants:\")\n",
        "print(f\"det(A) = {det_A}\")\n",
        "print(f\"det(B) = {det_B}\")\n",
        "print(f\"det(C) = {det_C}\")\n",
        "\n",
        "# Inverses\n",
        "print(\"\\nInverses:\")\n",
        "if inv_A:\n",
        "    print(\"A^-1:\")\n",
        "    print(inv_A)\n",
        "else:\n",
        "    print(\"A is singular and does not have an inverse.\")\n",
        "\n",
        "if inv_B:\n",
        "    print(\"B^-1:\")\n",
        "    print(inv_B)\n",
        "else:\n",
        "    print(\"B is singular and does not have an inverse.\")\n",
        "\n",
        "if inv_C:\n",
        "    print(\"C^-1:\")\n",
        "    print(inv_C)\n",
        "else:\n",
        "    print(\"C is singular and does not have an inverse.\")\n"
      ],
      "metadata": {
        "id": "PHQsFdIxnRl4",
        "outputId": "46e0aebb-6c5b-4104-acff-4ae3577a572e",
        "colab": {
          "base_uri": "https://localhost:8080/"
        }
      },
      "execution_count": 1,
      "outputs": [
        {
          "output_type": "stream",
          "name": "stdout",
          "text": [
            "Matrix A + B:\n",
            "Matrix([[7, 9], [8, 12]])\n",
            "\n",
            "Matrix A * B:\n",
            "Matrix([[31, 36], [33, 38]])\n",
            "\n",
            "Determinants:\n",
            "det(A) = 5\n",
            "det(B) = -2\n",
            "det(C) = -6\n",
            "\n",
            "Inverses:\n",
            "A^-1:\n",
            "Matrix([[4/5, -3/5], [-1/5, 2/5]])\n",
            "B^-1:\n",
            "Matrix([[-4, 3], [7/2, -5/2]])\n",
            "C^-1:\n",
            "Matrix([[0, 1/3], [1/2, 1/6]])\n"
          ]
        }
      ]
    }
  ],
  "metadata": {
    "kernelspec": {
      "display_name": "Python 3",
      "language": "python",
      "name": "python3"
    },
    "language_info": {
      "codemirror_mode": {
        "name": "ipython",
        "version": 3
      },
      "file_extension": ".py",
      "mimetype": "text/x-python",
      "name": "python",
      "nbconvert_exporter": "python",
      "pygments_lexer": "ipython3",
      "version": "3.11.9"
    },
    "colab": {
      "provenance": []
    }
  },
  "nbformat": 4,
  "nbformat_minor": 0
}